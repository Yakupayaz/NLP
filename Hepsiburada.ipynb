{
  "cells": [
    {
      "cell_type": "markdown",
      "metadata": {
        "id": "view-in-github",
        "colab_type": "text"
      },
      "source": [
        "<a href=\"https://colab.research.google.com/github/Yakupayaz/NLP/blob/master/Hepsiburada.ipynb\" target=\"_parent\"><img src=\"https://colab.research.google.com/assets/colab-badge.svg\" alt=\"Open In Colab\"/></a>"
      ]
    },
    {
      "cell_type": "markdown",
      "metadata": {
        "id": "6X73SBpsMP26"
      },
      "source": [
        "## NLP with DL"
      ]
    },
    {
      "cell_type": "code",
      "execution_count": 1,
      "metadata": {
        "id": "cgJ_HalfMSVB",
        "colab": {
          "base_uri": "https://localhost:8080/"
        },
        "outputId": "67ace5bb-3d1d-44e8-8f5b-b7f7bfbb613a"
      },
      "outputs": [
        {
          "output_type": "stream",
          "name": "stdout",
          "text": [
            "Mounted at /content/drive\n"
          ]
        }
      ],
      "source": [
        "from google.colab import drive\n",
        "drive.mount('/content/drive')"
      ]
    },
    {
      "cell_type": "markdown",
      "metadata": {
        "id": "0Y6XdY0zMP3B"
      },
      "source": [
        "## Import libraries"
      ]
    },
    {
      "cell_type": "code",
      "execution_count": 3,
      "metadata": {
        "id": "yt8uihaEMP3B"
      },
      "outputs": [],
      "source": [
        "import numpy as np\n",
        "import pandas as pd\n",
        "from tensorflow.keras.models import Sequential\n",
        "from tensorflow.keras.layers import Dense, GRU, Embedding, Dropout\n",
        "from tensorflow.keras.optimizers import Adam\n",
        "from tensorflow.keras.preprocessing.text import Tokenizer\n",
        "from tensorflow.keras.preprocessing.sequence import pad_sequences"
      ]
    },
    {
      "cell_type": "code",
      "execution_count": 4,
      "metadata": {
        "id": "lN-e8sK4MP3D"
      },
      "outputs": [],
      "source": [
        "df = pd.read_csv('/content/sample_data/hepsiburada.zip', encoding= \"utf-8\")"
      ]
    },
    {
      "cell_type": "code",
      "execution_count": 5,
      "metadata": {
        "colab": {
          "base_uri": "https://localhost:8080/",
          "height": 206
        },
        "id": "kBw6YugKMP3D",
        "outputId": "fe23ebb6-e51d-426b-d488-4402c210e4bc"
      },
      "outputs": [
        {
          "output_type": "execute_result",
          "data": {
            "text/plain": [
              "   Rating                                             Review\n",
              "0       1                            3 yıldır tık demedi. :)\n",
              "1       1                      3 yıldır kullanıyorum müthiş \n",
              "2       1  Ürün bugün elime geçti çok fazla inceleme fırs...\n",
              "3       1  Almaya karar verdim. Hemencecik geldi. Keyifle...\n",
              "4       1  Günlük kullanımınızı çok çok iyi karsılıyor kı..."
            ],
            "text/html": [
              "\n",
              "  <div id=\"df-ac480b36-f7fc-4b28-8c8a-0a3044fcc40b\" class=\"colab-df-container\">\n",
              "    <div>\n",
              "<style scoped>\n",
              "    .dataframe tbody tr th:only-of-type {\n",
              "        vertical-align: middle;\n",
              "    }\n",
              "\n",
              "    .dataframe tbody tr th {\n",
              "        vertical-align: top;\n",
              "    }\n",
              "\n",
              "    .dataframe thead th {\n",
              "        text-align: right;\n",
              "    }\n",
              "</style>\n",
              "<table border=\"1\" class=\"dataframe\">\n",
              "  <thead>\n",
              "    <tr style=\"text-align: right;\">\n",
              "      <th></th>\n",
              "      <th>Rating</th>\n",
              "      <th>Review</th>\n",
              "    </tr>\n",
              "  </thead>\n",
              "  <tbody>\n",
              "    <tr>\n",
              "      <th>0</th>\n",
              "      <td>1</td>\n",
              "      <td>3 yıldır tık demedi. :)</td>\n",
              "    </tr>\n",
              "    <tr>\n",
              "      <th>1</th>\n",
              "      <td>1</td>\n",
              "      <td>3 yıldır kullanıyorum müthiş</td>\n",
              "    </tr>\n",
              "    <tr>\n",
              "      <th>2</th>\n",
              "      <td>1</td>\n",
              "      <td>Ürün bugün elime geçti çok fazla inceleme fırs...</td>\n",
              "    </tr>\n",
              "    <tr>\n",
              "      <th>3</th>\n",
              "      <td>1</td>\n",
              "      <td>Almaya karar verdim. Hemencecik geldi. Keyifle...</td>\n",
              "    </tr>\n",
              "    <tr>\n",
              "      <th>4</th>\n",
              "      <td>1</td>\n",
              "      <td>Günlük kullanımınızı çok çok iyi karsılıyor kı...</td>\n",
              "    </tr>\n",
              "  </tbody>\n",
              "</table>\n",
              "</div>\n",
              "    <div class=\"colab-df-buttons\">\n",
              "\n",
              "  <div class=\"colab-df-container\">\n",
              "    <button class=\"colab-df-convert\" onclick=\"convertToInteractive('df-ac480b36-f7fc-4b28-8c8a-0a3044fcc40b')\"\n",
              "            title=\"Convert this dataframe to an interactive table.\"\n",
              "            style=\"display:none;\">\n",
              "\n",
              "  <svg xmlns=\"http://www.w3.org/2000/svg\" height=\"24px\" viewBox=\"0 -960 960 960\">\n",
              "    <path d=\"M120-120v-720h720v720H120Zm60-500h600v-160H180v160Zm220 220h160v-160H400v160Zm0 220h160v-160H400v160ZM180-400h160v-160H180v160Zm440 0h160v-160H620v160ZM180-180h160v-160H180v160Zm440 0h160v-160H620v160Z\"/>\n",
              "  </svg>\n",
              "    </button>\n",
              "\n",
              "  <style>\n",
              "    .colab-df-container {\n",
              "      display:flex;\n",
              "      gap: 12px;\n",
              "    }\n",
              "\n",
              "    .colab-df-convert {\n",
              "      background-color: #E8F0FE;\n",
              "      border: none;\n",
              "      border-radius: 50%;\n",
              "      cursor: pointer;\n",
              "      display: none;\n",
              "      fill: #1967D2;\n",
              "      height: 32px;\n",
              "      padding: 0 0 0 0;\n",
              "      width: 32px;\n",
              "    }\n",
              "\n",
              "    .colab-df-convert:hover {\n",
              "      background-color: #E2EBFA;\n",
              "      box-shadow: 0px 1px 2px rgba(60, 64, 67, 0.3), 0px 1px 3px 1px rgba(60, 64, 67, 0.15);\n",
              "      fill: #174EA6;\n",
              "    }\n",
              "\n",
              "    .colab-df-buttons div {\n",
              "      margin-bottom: 4px;\n",
              "    }\n",
              "\n",
              "    [theme=dark] .colab-df-convert {\n",
              "      background-color: #3B4455;\n",
              "      fill: #D2E3FC;\n",
              "    }\n",
              "\n",
              "    [theme=dark] .colab-df-convert:hover {\n",
              "      background-color: #434B5C;\n",
              "      box-shadow: 0px 1px 3px 1px rgba(0, 0, 0, 0.15);\n",
              "      filter: drop-shadow(0px 1px 2px rgba(0, 0, 0, 0.3));\n",
              "      fill: #FFFFFF;\n",
              "    }\n",
              "  </style>\n",
              "\n",
              "    <script>\n",
              "      const buttonEl =\n",
              "        document.querySelector('#df-ac480b36-f7fc-4b28-8c8a-0a3044fcc40b button.colab-df-convert');\n",
              "      buttonEl.style.display =\n",
              "        google.colab.kernel.accessAllowed ? 'block' : 'none';\n",
              "\n",
              "      async function convertToInteractive(key) {\n",
              "        const element = document.querySelector('#df-ac480b36-f7fc-4b28-8c8a-0a3044fcc40b');\n",
              "        const dataTable =\n",
              "          await google.colab.kernel.invokeFunction('convertToInteractive',\n",
              "                                                    [key], {});\n",
              "        if (!dataTable) return;\n",
              "\n",
              "        const docLinkHtml = 'Like what you see? Visit the ' +\n",
              "          '<a target=\"_blank\" href=https://colab.research.google.com/notebooks/data_table.ipynb>data table notebook</a>'\n",
              "          + ' to learn more about interactive tables.';\n",
              "        element.innerHTML = '';\n",
              "        dataTable['output_type'] = 'display_data';\n",
              "        await google.colab.output.renderOutput(dataTable, element);\n",
              "        const docLink = document.createElement('div');\n",
              "        docLink.innerHTML = docLinkHtml;\n",
              "        element.appendChild(docLink);\n",
              "      }\n",
              "    </script>\n",
              "  </div>\n",
              "\n",
              "\n",
              "<div id=\"df-0d84d8f8-b374-4e4b-98fb-210f10672fd1\">\n",
              "  <button class=\"colab-df-quickchart\" onclick=\"quickchart('df-0d84d8f8-b374-4e4b-98fb-210f10672fd1')\"\n",
              "            title=\"Suggest charts\"\n",
              "            style=\"display:none;\">\n",
              "\n",
              "<svg xmlns=\"http://www.w3.org/2000/svg\" height=\"24px\"viewBox=\"0 0 24 24\"\n",
              "     width=\"24px\">\n",
              "    <g>\n",
              "        <path d=\"M19 3H5c-1.1 0-2 .9-2 2v14c0 1.1.9 2 2 2h14c1.1 0 2-.9 2-2V5c0-1.1-.9-2-2-2zM9 17H7v-7h2v7zm4 0h-2V7h2v10zm4 0h-2v-4h2v4z\"/>\n",
              "    </g>\n",
              "</svg>\n",
              "  </button>\n",
              "\n",
              "<style>\n",
              "  .colab-df-quickchart {\n",
              "      --bg-color: #E8F0FE;\n",
              "      --fill-color: #1967D2;\n",
              "      --hover-bg-color: #E2EBFA;\n",
              "      --hover-fill-color: #174EA6;\n",
              "      --disabled-fill-color: #AAA;\n",
              "      --disabled-bg-color: #DDD;\n",
              "  }\n",
              "\n",
              "  [theme=dark] .colab-df-quickchart {\n",
              "      --bg-color: #3B4455;\n",
              "      --fill-color: #D2E3FC;\n",
              "      --hover-bg-color: #434B5C;\n",
              "      --hover-fill-color: #FFFFFF;\n",
              "      --disabled-bg-color: #3B4455;\n",
              "      --disabled-fill-color: #666;\n",
              "  }\n",
              "\n",
              "  .colab-df-quickchart {\n",
              "    background-color: var(--bg-color);\n",
              "    border: none;\n",
              "    border-radius: 50%;\n",
              "    cursor: pointer;\n",
              "    display: none;\n",
              "    fill: var(--fill-color);\n",
              "    height: 32px;\n",
              "    padding: 0;\n",
              "    width: 32px;\n",
              "  }\n",
              "\n",
              "  .colab-df-quickchart:hover {\n",
              "    background-color: var(--hover-bg-color);\n",
              "    box-shadow: 0 1px 2px rgba(60, 64, 67, 0.3), 0 1px 3px 1px rgba(60, 64, 67, 0.15);\n",
              "    fill: var(--button-hover-fill-color);\n",
              "  }\n",
              "\n",
              "  .colab-df-quickchart-complete:disabled,\n",
              "  .colab-df-quickchart-complete:disabled:hover {\n",
              "    background-color: var(--disabled-bg-color);\n",
              "    fill: var(--disabled-fill-color);\n",
              "    box-shadow: none;\n",
              "  }\n",
              "\n",
              "  .colab-df-spinner {\n",
              "    border: 2px solid var(--fill-color);\n",
              "    border-color: transparent;\n",
              "    border-bottom-color: var(--fill-color);\n",
              "    animation:\n",
              "      spin 1s steps(1) infinite;\n",
              "  }\n",
              "\n",
              "  @keyframes spin {\n",
              "    0% {\n",
              "      border-color: transparent;\n",
              "      border-bottom-color: var(--fill-color);\n",
              "      border-left-color: var(--fill-color);\n",
              "    }\n",
              "    20% {\n",
              "      border-color: transparent;\n",
              "      border-left-color: var(--fill-color);\n",
              "      border-top-color: var(--fill-color);\n",
              "    }\n",
              "    30% {\n",
              "      border-color: transparent;\n",
              "      border-left-color: var(--fill-color);\n",
              "      border-top-color: var(--fill-color);\n",
              "      border-right-color: var(--fill-color);\n",
              "    }\n",
              "    40% {\n",
              "      border-color: transparent;\n",
              "      border-right-color: var(--fill-color);\n",
              "      border-top-color: var(--fill-color);\n",
              "    }\n",
              "    60% {\n",
              "      border-color: transparent;\n",
              "      border-right-color: var(--fill-color);\n",
              "    }\n",
              "    80% {\n",
              "      border-color: transparent;\n",
              "      border-right-color: var(--fill-color);\n",
              "      border-bottom-color: var(--fill-color);\n",
              "    }\n",
              "    90% {\n",
              "      border-color: transparent;\n",
              "      border-bottom-color: var(--fill-color);\n",
              "    }\n",
              "  }\n",
              "</style>\n",
              "\n",
              "  <script>\n",
              "    async function quickchart(key) {\n",
              "      const quickchartButtonEl =\n",
              "        document.querySelector('#' + key + ' button');\n",
              "      quickchartButtonEl.disabled = true;  // To prevent multiple clicks.\n",
              "      quickchartButtonEl.classList.add('colab-df-spinner');\n",
              "      try {\n",
              "        const charts = await google.colab.kernel.invokeFunction(\n",
              "            'suggestCharts', [key], {});\n",
              "      } catch (error) {\n",
              "        console.error('Error during call to suggestCharts:', error);\n",
              "      }\n",
              "      quickchartButtonEl.classList.remove('colab-df-spinner');\n",
              "      quickchartButtonEl.classList.add('colab-df-quickchart-complete');\n",
              "    }\n",
              "    (() => {\n",
              "      let quickchartButtonEl =\n",
              "        document.querySelector('#df-0d84d8f8-b374-4e4b-98fb-210f10672fd1 button');\n",
              "      quickchartButtonEl.style.display =\n",
              "        google.colab.kernel.accessAllowed ? 'block' : 'none';\n",
              "    })();\n",
              "  </script>\n",
              "</div>\n",
              "\n",
              "    </div>\n",
              "  </div>\n"
            ],
            "application/vnd.google.colaboratory.intrinsic+json": {
              "type": "dataframe",
              "variable_name": "df"
            }
          },
          "metadata": {},
          "execution_count": 5
        }
      ],
      "source": [
        "df.head()"
      ]
    },
    {
      "cell_type": "code",
      "execution_count": 6,
      "metadata": {
        "colab": {
          "base_uri": "https://localhost:8080/"
        },
        "id": "Wd9UfbvsSWJ5",
        "outputId": "f299d0f1-6a74-415e-9bad-327ea306738d"
      },
      "outputs": [
        {
          "output_type": "stream",
          "name": "stdout",
          "text": [
            "<class 'pandas.core.frame.DataFrame'>\n",
            "RangeIndex: 243497 entries, 0 to 243496\n",
            "Data columns (total 2 columns):\n",
            " #   Column  Non-Null Count   Dtype \n",
            "---  ------  --------------   ----- \n",
            " 0   Rating  243497 non-null  int64 \n",
            " 1   Review  243497 non-null  object\n",
            "dtypes: int64(1), object(1)\n",
            "memory usage: 3.7+ MB\n"
          ]
        }
      ],
      "source": [
        "df.info()"
      ]
    },
    {
      "cell_type": "code",
      "source": [
        "df.Rating.value_counts()"
      ],
      "metadata": {
        "colab": {
          "base_uri": "https://localhost:8080/",
          "height": 178
        },
        "id": "0mrjCQ9wwSCs",
        "outputId": "4de7c7a0-2eb5-4757-f0dc-62fc3a89592b"
      },
      "execution_count": 7,
      "outputs": [
        {
          "output_type": "execute_result",
          "data": {
            "text/plain": [
              "Rating\n",
              "1    229821\n",
              "0     13676\n",
              "Name: count, dtype: int64"
            ],
            "text/html": [
              "<div>\n",
              "<style scoped>\n",
              "    .dataframe tbody tr th:only-of-type {\n",
              "        vertical-align: middle;\n",
              "    }\n",
              "\n",
              "    .dataframe tbody tr th {\n",
              "        vertical-align: top;\n",
              "    }\n",
              "\n",
              "    .dataframe thead th {\n",
              "        text-align: right;\n",
              "    }\n",
              "</style>\n",
              "<table border=\"1\" class=\"dataframe\">\n",
              "  <thead>\n",
              "    <tr style=\"text-align: right;\">\n",
              "      <th></th>\n",
              "      <th>count</th>\n",
              "    </tr>\n",
              "    <tr>\n",
              "      <th>Rating</th>\n",
              "      <th></th>\n",
              "    </tr>\n",
              "  </thead>\n",
              "  <tbody>\n",
              "    <tr>\n",
              "      <th>1</th>\n",
              "      <td>229821</td>\n",
              "    </tr>\n",
              "    <tr>\n",
              "      <th>0</th>\n",
              "      <td>13676</td>\n",
              "    </tr>\n",
              "  </tbody>\n",
              "</table>\n",
              "</div><br><label><b>dtype:</b> int64</label>"
            ]
          },
          "metadata": {},
          "execution_count": 7
        }
      ]
    },
    {
      "cell_type": "code",
      "source": [
        "df.Rating = df.Rating.map({1:0, 0:1})\n",
        "# Hedef label değerlerimizi her zaman 1 yaparız."
      ],
      "metadata": {
        "id": "0zmMhW2hwN1m"
      },
      "execution_count": 8,
      "outputs": []
    },
    {
      "cell_type": "code",
      "execution_count": 9,
      "metadata": {
        "colab": {
          "base_uri": "https://localhost:8080/",
          "height": 178
        },
        "id": "2l26CUKCSaig",
        "outputId": "dca6e531-6cb3-4938-d763-5b78958364d4"
      },
      "outputs": [
        {
          "output_type": "execute_result",
          "data": {
            "text/plain": [
              "Rating\n",
              "0    94.38%\n",
              "1     5.62%\n",
              "Name: proportion, dtype: object"
            ],
            "text/html": [
              "<div>\n",
              "<style scoped>\n",
              "    .dataframe tbody tr th:only-of-type {\n",
              "        vertical-align: middle;\n",
              "    }\n",
              "\n",
              "    .dataframe tbody tr th {\n",
              "        vertical-align: top;\n",
              "    }\n",
              "\n",
              "    .dataframe thead th {\n",
              "        text-align: right;\n",
              "    }\n",
              "</style>\n",
              "<table border=\"1\" class=\"dataframe\">\n",
              "  <thead>\n",
              "    <tr style=\"text-align: right;\">\n",
              "      <th></th>\n",
              "      <th>proportion</th>\n",
              "    </tr>\n",
              "    <tr>\n",
              "      <th>Rating</th>\n",
              "      <th></th>\n",
              "    </tr>\n",
              "  </thead>\n",
              "  <tbody>\n",
              "    <tr>\n",
              "      <th>0</th>\n",
              "      <td>94.38%</td>\n",
              "    </tr>\n",
              "    <tr>\n",
              "      <th>1</th>\n",
              "      <td>5.62%</td>\n",
              "    </tr>\n",
              "  </tbody>\n",
              "</table>\n",
              "</div><br><label><b>dtype:</b> object</label>"
            ]
          },
          "metadata": {},
          "execution_count": 9
        }
      ],
      "source": [
        "df.Rating.value_counts(normalize=True).mul(100).round(2).astype(str) + '%'"
      ]
    },
    {
      "cell_type": "markdown",
      "metadata": {
        "id": "ErzHzxUOMP3F"
      },
      "source": [
        "## Tokenization"
      ]
    },
    {
      "cell_type": "code",
      "execution_count": 10,
      "metadata": {
        "id": "amDd007iMP3F"
      },
      "outputs": [],
      "source": [
        "X = df['Review']\n",
        "y = df['Rating']"
      ]
    },
    {
      "cell_type": "code",
      "source": [
        "from sklearn.model_selection import train_test_split\n",
        "\n",
        "X_train, X_test, y_train, y_test = train_test_split(X, y, test_size=0.1, stratify=y, random_state=42)"
      ],
      "metadata": {
        "id": "tt3NOFYadh-Y"
      },
      "execution_count": 11,
      "outputs": []
    },
    {
      "cell_type": "code",
      "execution_count": 12,
      "metadata": {
        "id": "3ltwlIS9MP3G"
      },
      "outputs": [],
      "source": [
        "num_words = 15001\n",
        " # corpusta geçen en fazla kullanılan ilk 15.000 kelimeyi(tokeni) alacağız gerisini yok sayacağız.\n",
        "# None değeri atanırsa tüm kelimeler dikkate alınır.\n",
        "tokenizer = Tokenizer(num_words=num_words) #filters='!\"#$%&()*+,-./:;<=>?@[\\\\]^_`{|}~\\t\\n1234567890'"
      ]
    },
    {
      "cell_type": "code",
      "execution_count": 13,
      "metadata": {
        "id": "7QnzlbfrMP3H"
      },
      "outputs": [],
      "source": [
        "tokenizer.fit_on_texts(X_train)\n",
        "# fit_on_texts train datamızda/ corpustaki testleri tokenlara ayırıp tüm unique tokenleri tespit ederek sıklıklarına göre numaralandırır.\n",
        "# en çok geçen token 1 numarası verilir."
      ]
    },
    {
      "cell_type": "markdown",
      "metadata": {
        "id": "qbBLA65iMP3I"
      },
      "source": [
        "## Creating word index"
      ]
    },
    {
      "cell_type": "code",
      "execution_count": 14,
      "metadata": {
        "colab": {
          "base_uri": "https://localhost:8080/"
        },
        "id": "ujCeRckiMP3I",
        "outputId": "adbe214c-62b8-451a-983f-d4745a56a903"
      },
      "outputs": [
        {
          "output_type": "execute_result",
          "data": {
            "text/plain": [
              "{'çok': 1,\n",
              " 'bir': 2,\n",
              " 've': 3,\n",
              " 'ürün': 4,\n",
              " 'bu': 5,\n",
              " 'iyi': 6,\n",
              " 'güzel': 7,\n",
              " 'için': 8,\n",
              " 'tavsiye': 9,\n",
              " 'ederim': 10,\n",
              " 'daha': 11,\n",
              " 'ama': 12,\n",
              " 'da': 13,\n",
              " 'gayet': 14,\n",
              " 'hızlı': 15,\n",
              " 'teşekkürler': 16,\n",
              " 'aldım': 17,\n",
              " 'de': 18,\n",
              " 'ürünü': 19,\n",
              " 'gibi': 20,\n",
              " 'yok': 21,\n",
              " 'uygun': 22,\n",
              " 'olarak': 23,\n",
              " 'kaliteli': 24,\n",
              " 'en': 25,\n",
              " 'kargo': 26,\n",
              " '2': 27,\n",
              " 'fiyat': 28,\n",
              " 'elime': 29,\n",
              " 'kadar': 30,\n",
              " 'ile': 31,\n",
              " 'göre': 32,\n",
              " 'geldi': 33,\n",
              " 'hepsiburada': 34,\n",
              " 'var': 35,\n",
              " 'ben': 36,\n",
              " 'gerçekten': 37,\n",
              " '1': 38,\n",
              " 'fiyata': 39,\n",
              " 'gün': 40,\n",
              " 'sonra': 41,\n",
              " 'cok': 42,\n",
              " 'kesinlikle': 43,\n",
              " 'telefon': 44,\n",
              " 'biraz': 45,\n",
              " 'ulaştı': 46,\n",
              " 'memnun': 47,\n",
              " 'hiç': 48,\n",
              " 'değil': 49,\n",
              " 'hem': 50,\n",
              " 'kullanışlı': 51,\n",
              " '3': 52,\n",
              " 'mükemmel': 53,\n",
              " 'oldu': 54,\n",
              " 'kullanıyorum': 55,\n",
              " 'önce': 56,\n",
              " 'sipariş': 57,\n",
              " 'tek': 58,\n",
              " 'her': 59,\n",
              " 'bence': 60,\n",
              " 'harika': 61,\n",
              " 'kalitesi': 62,\n",
              " 'bi': 63,\n",
              " 'ayrıca': 64,\n",
              " '5': 65,\n",
              " 'teşekkür': 66,\n",
              " 'olması': 67,\n",
              " 'fiyatı': 68,\n",
              " 'ne': 69,\n",
              " 'herkese': 70,\n",
              " 'bile': 71,\n",
              " 'uzun': 72,\n",
              " 'süper': 73,\n",
              " 'tam': 74,\n",
              " 'zaten': 75,\n",
              " 'ilk': 76,\n",
              " 'fazla': 77,\n",
              " 'o': 78,\n",
              " 'başarılı': 79,\n",
              " 'fakat': 80,\n",
              " 'şarj': 81,\n",
              " 'ancak': 82,\n",
              " 'memnunum': 83,\n",
              " 'ediyorum': 84,\n",
              " 'saat': 85,\n",
              " 'fiyatına': 86,\n",
              " 'oldukça': 87,\n",
              " 'hemen': 88,\n",
              " 'şekilde': 89,\n",
              " 'ses': 90,\n",
              " 'hepsi': 91,\n",
              " 'rahat': 92,\n",
              " 'gerek': 93,\n",
              " 'aynı': 94,\n",
              " '4': 95,\n",
              " 'şık': 96,\n",
              " 'verdim': 97,\n",
              " 'kolay': 98,\n",
              " 'diye': 99,\n",
              " 'sadece': 100,\n",
              " 'kaldım': 101,\n",
              " 'ki': 102,\n",
              " 'büyük': 103,\n",
              " 'diğer': 104,\n",
              " 'sorun': 105,\n",
              " 'alın': 106,\n",
              " 'burada': 107,\n",
              " 'kısa': 108,\n",
              " 'sorunsuz': 109,\n",
              " 'ürünün': 110,\n",
              " 'performans': 111,\n",
              " 'içinde': 112,\n",
              " 'olan': 113,\n",
              " 'günde': 114,\n",
              " 'olsun': 115,\n",
              " 'küçük': 116,\n",
              " 'urun': 117,\n",
              " '10': 118,\n",
              " 'benim': 119,\n",
              " 'başka': 120,\n",
              " 'iki': 121,\n",
              " 'olduğu': 122,\n",
              " 'teslimat': 123,\n",
              " 'com': 124,\n",
              " 'arkadaşlar': 125,\n",
              " 'sağlam': 126,\n",
              " 'teslim': 127,\n",
              " 'oluyor': 128,\n",
              " 'ettim': 129,\n",
              " 'zaman': 130,\n",
              " 'kalite': 131,\n",
              " 'almak': 132,\n",
              " 'az': 133,\n",
              " 'telefonu': 134,\n",
              " 'cihaz': 135,\n",
              " 'yeni': 136,\n",
              " 'marka': 137,\n",
              " 'koku': 138,\n",
              " 'son': 139,\n",
              " 'ise': 140,\n",
              " 'kullandım': 141,\n",
              " 'kokusu': 142,\n",
              " 'derim': 143,\n",
              " 'özellikle': 144,\n",
              " 'olduğunu': 145,\n",
              " 'beğendim': 146,\n",
              " 'sıkıntı': 147,\n",
              " 'ucuz': 148,\n",
              " 'geçti': 149,\n",
              " 'rağmen': 150,\n",
              " 'geliyor': 151,\n",
              " 'guzel': 152,\n",
              " 'bana': 153,\n",
              " 'ya': 154,\n",
              " 'almıştım': 155,\n",
              " 'ideal': 156,\n",
              " 'orjinal': 157,\n",
              " 'tane': 158,\n",
              " 'yeterli': 159,\n",
              " 'hediye': 160,\n",
              " 'sürede': 161,\n",
              " 'yani': 162,\n",
              " 'yaklaşık': 163,\n",
              " 'normal': 164,\n",
              " 'ediyor': 165,\n",
              " 'ekran': 166,\n",
              " 'hafif': 167,\n",
              " 'bunu': 168,\n",
              " 'veriyor': 169,\n",
              " 'aldığım': 170,\n",
              " '6': 171,\n",
              " 'yüksek': 172,\n",
              " 'tüm': 173,\n",
              " 'pişman': 174,\n",
              " 'düşünmeden': 175,\n",
              " 'tercih': 176,\n",
              " 'kötü': 177,\n",
              " 'numara': 178,\n",
              " 'düşünüyorum': 179,\n",
              " 'bi̇r': 180,\n",
              " 'çıktı': 181,\n",
              " 'kullanımı': 182,\n",
              " 'su': 183,\n",
              " 'süre': 184,\n",
              " 'günü': 185,\n",
              " 'şey': 186,\n",
              " 'adet': 187,\n",
              " 'hemde': 188,\n",
              " 'hizli': 189,\n",
              " 'icin': 190,\n",
              " 'hb': 191,\n",
              " 'çalışıyor': 192,\n",
              " 'ay': 193,\n",
              " 'hafta': 194,\n",
              " 'sesi': 195,\n",
              " 'alışveriş': 196,\n",
              " 'kitap': 197,\n",
              " 'zor': 198,\n",
              " 'farklı': 199,\n",
              " 'yine': 200,\n",
              " 'alabilirsiniz': 201,\n",
              " 'böyle': 202,\n",
              " 'hızı': 203,\n",
              " 'çünkü': 204,\n",
              " 'para': 205,\n",
              " 'sürekli': 206,\n",
              " 'ertesi': 207,\n",
              " 'kullanım': 208,\n",
              " 'bende': 209,\n",
              " 'duruyor': 210,\n",
              " 'aldim': 211,\n",
              " 'olur': 212,\n",
              " 'hoş': 213,\n",
              " 'artık': 214,\n",
              " 'yapıyor': 215,\n",
              " 'konusunda': 216,\n",
              " 'olsa': 217,\n",
              " 'yorumlara': 218,\n",
              " 'gönderi': 219,\n",
              " 'gücü': 220,\n",
              " 'şu': 221,\n",
              " 'vardı': 222,\n",
              " 'üründen': 223,\n",
              " 'malzeme': 224,\n",
              " 'biri': 225,\n",
              " 'dışında': 226,\n",
              " 'defa': 227,\n",
              " 'samsung': 228,\n",
              " 'kullandığım': 229,\n",
              " 'pratik': 230,\n",
              " 'diş': 231,\n",
              " 'şimdi': 232,\n",
              " 'onun': 233,\n",
              " 'bugün': 234,\n",
              " 'iş': 235,\n",
              " 'tereddüt': 236,\n",
              " 'şarjı': 237,\n",
              " 'kurulumu': 238,\n",
              " 'özelliği': 239,\n",
              " '7': 240,\n",
              " 'i̇lk': 241,\n",
              " 'ince': 242,\n",
              " 'gelen': 243,\n",
              " 'kullanmaya': 244,\n",
              " 'diyebilirim': 245,\n",
              " 'aldık': 246,\n",
              " 'denedim': 247,\n",
              " 'almayı': 248,\n",
              " '8': 249,\n",
              " 'pek': 250,\n",
              " 'tekrar': 251,\n",
              " 'karar': 252,\n",
              " 'çabuk': 253,\n",
              " 'kez': 254,\n",
              " 'kendi': 255,\n",
              " 'dolayı': 256,\n",
              " 'sahip': 257,\n",
              " 'kamera': 258,\n",
              " 'sessiz': 259,\n",
              " 'basit': 260,\n",
              " 'hiçbir': 261,\n",
              " 'açısından': 262,\n",
              " 'derece': 263,\n",
              " 'sonuç': 264,\n",
              " 'iphone': 265,\n",
              " 'pahalı': 266,\n",
              " 'pil': 267,\n",
              " 'işe': 268,\n",
              " 'veya': 269,\n",
              " 'yanında': 270,\n",
              " 'tesekkurler': 271,\n",
              " 'öncelikle': 272,\n",
              " 'gidiyor': 273,\n",
              " 'olmadı': 274,\n",
              " 'bunun': 275,\n",
              " 'dan': 276,\n",
              " 'öyle': 277,\n",
              " 'beni': 278,\n",
              " 'yer': 279,\n",
              " 'gece': 280,\n",
              " 'varsa': 281,\n",
              " 'zamanında': 282,\n",
              " 'yorum': 283,\n",
              " 'performansı': 284,\n",
              " 'parfüm': 285,\n",
              " 'evde': 286,\n",
              " 'belli': 287,\n",
              " 'oyun': 288,\n",
              " 'ağır': 289,\n",
              " 'arada': 290,\n",
              " 'iyisi': 291,\n",
              " 'mutlaka': 292,\n",
              " 'eğer': 293,\n",
              " 'paketleme': 294,\n",
              " 'zamanda': 295,\n",
              " 'hatta': 296,\n",
              " 'ufak': 297,\n",
              " 'eşim': 298,\n",
              " 'usb': 299,\n",
              " 'fark': 300,\n",
              " 'gönül': 301,\n",
              " '15': 302,\n",
              " 'üzerinde': 303,\n",
              " 'gereken': 304,\n",
              " 'alacak': 305,\n",
              " 'aydır': 306,\n",
              " 'doğru': 307,\n",
              " 'tl': 308,\n",
              " 'kalıcı': 309,\n",
              " 'eski': 310,\n",
              " 'herhangi': 311,\n",
              " 'rahatlıkla': 312,\n",
              " 'vs': 313,\n",
              " 'satın': 314,\n",
              " 'alınabilecek': 315,\n",
              " 'bundan': 316,\n",
              " 'görüntü': 317,\n",
              " 'lazım': 318,\n",
              " 'farkı': 319,\n",
              " 'gercekten': 320,\n",
              " 'yaptım': 321,\n",
              " 'kullanmak': 322,\n",
              " 'kaçırmayın': 323,\n",
              " 'alırken': 324,\n",
              " 'telefonun': 325,\n",
              " 'yaşamadım': 326,\n",
              " 'gerekiyor': 327,\n",
              " 'kargoya': 328,\n",
              " 'şiddetle': 329,\n",
              " 'prima': 330,\n",
              " 'mi': 331,\n",
              " 'ürünler': 332,\n",
              " 'gördüm': 333,\n",
              " 'bütün': 334,\n",
              " 'ayrı': 335,\n",
              " 'sayesinde': 336,\n",
              " 'birlikte': 337,\n",
              " 'yıl': 338,\n",
              " 'önemli': 339,\n",
              " 'alalı': 340,\n",
              " 'yerde': 341,\n",
              " 'beklediğimden': 342,\n",
              " 'gb': 343,\n",
              " 'almaya': 344,\n",
              " 'olmasına': 345,\n",
              " 'devam': 346,\n",
              " 'sabah': 347,\n",
              " 'tv': 348,\n",
              " 'henüz': 349,\n",
              " 'a': 350,\n",
              " 'sorunu': 351,\n",
              " 'kutu': 352,\n",
              " 'hepsiburadaya': 353,\n",
              " 'hala': 354,\n",
              " 'falan': 355,\n",
              " 'bakarak': 356,\n",
              " 'muhteşem': 357,\n",
              " 'sanırım': 358,\n",
              " '20': 359,\n",
              " 'süresi': 360,\n",
              " 'tabi': 361,\n",
              " 'kulaklık': 362,\n",
              " 'rahatsız': 363,\n",
              " 'dikkat': 364,\n",
              " 'güvenilir': 365,\n",
              " 'kere': 366,\n",
              " 'edilir': 367,\n",
              " 'çıkıyor': 368,\n",
              " 'orijinal': 369,\n",
              " 'alıp': 370,\n",
              " 'yüzden': 371,\n",
              " 'toz': 372,\n",
              " 'ürüne': 373,\n",
              " 'kamerası': 374,\n",
              " 'sağlıyor': 375,\n",
              " 'dün': 376,\n",
              " 'düşük': 377,\n",
              " 'i̇yi': 378,\n",
              " 'spor': 379,\n",
              " 'problem': 380,\n",
              " 'öneririm': 381,\n",
              " 'edildi': 382,\n",
              " 'plastik': 383,\n",
              " 'beri': 384,\n",
              " 'içerisinde': 385,\n",
              " 'an': 386,\n",
              " 'makine': 387,\n",
              " 'tavsi̇ye': 388,\n",
              " 'fazlasıyla': 389,\n",
              " '30': 390,\n",
              " 'özellikleri': 391,\n",
              " 'on': 392,\n",
              " 'satıcı': 393,\n",
              " 'den': 394,\n",
              " 'genel': 395,\n",
              " 'ilgili': 396,\n",
              " 'baya': 397,\n",
              " 'kaç': 398,\n",
              " 'yalnız': 399,\n",
              " 'haftadır': 400,\n",
              " 'oldum': 401,\n",
              " 'fiyatıda': 402,\n",
              " 'etkili': 403,\n",
              " 'kullanımda': 404,\n",
              " 'olmuş': 405,\n",
              " 'üstelik': 406,\n",
              " 'hep': 407,\n",
              " 'sıcak': 408,\n",
              " 'bazı': 409,\n",
              " '24': 410,\n",
              " 'güçlü': 411,\n",
              " 'paket': 412,\n",
              " 'olabilir': 413,\n",
              " 'inanılmaz': 414,\n",
              " 'almışım': 415,\n",
              " 'piyasada': 416,\n",
              " 'üst': 417,\n",
              " 'yerine': 418,\n",
              " 'renk': 419,\n",
              " 'ederi̇m': 420,\n",
              " 'olmuyor': 421,\n",
              " 'yada': 422,\n",
              " 'paraya': 423,\n",
              " 'fena': 424,\n",
              " 'nasıl': 425,\n",
              " 'sert': 426,\n",
              " 'gitti': 427,\n",
              " 'umarım': 428,\n",
              " 'kitabı': 429,\n",
              " 'arasında': 430,\n",
              " 'arkadaşlara': 431,\n",
              " 'servis': 432,\n",
              " 'kurulum': 433,\n",
              " 'birde': 434,\n",
              " 'altında': 435,\n",
              " 'gelince': 436,\n",
              " 'birşey': 437,\n",
              " 'ye': 438,\n",
              " 'üzerine': 439,\n",
              " 'note': 440,\n",
              " 'yorumları': 441,\n",
              " 'başladım': 442,\n",
              " 'cihazı': 443,\n",
              " 'ön': 444,\n",
              " 'geç': 445,\n",
              " 'sanki': 446,\n",
              " 'dk': 447,\n",
              " 'kullanıyoruz': 448,\n",
              " '0': 449,\n",
              " 'olanlar': 450,\n",
              " 'etti': 451,\n",
              " 'almadan': 452,\n",
              " 'üründe': 453,\n",
              " 'kalitesini': 454,\n",
              " 'alıyorum': 455,\n",
              " 'eşime': 456,\n",
              " 'i̇yi̇': 457,\n",
              " 'ev': 458,\n",
              " 'görünce': 459,\n",
              " 'edici': 460,\n",
              " 'saatte': 461,\n",
              " 'sarj': 462,\n",
              " 'memnunuz': 463,\n",
              " 'bez': 464,\n",
              " 'arka': 465,\n",
              " 'yıldır': 466,\n",
              " 'anda': 467,\n",
              " 'çekim': 468,\n",
              " 'hizmet': 469,\n",
              " 'tamamen': 470,\n",
              " 'parmak': 471,\n",
              " 'tutuyor': 472,\n",
              " 'herkes': 473,\n",
              " 'geçen': 474,\n",
              " 'akşam': 475,\n",
              " 'android': 476,\n",
              " '12': 477,\n",
              " 'elimize': 478,\n",
              " 'telefona': 479,\n",
              " '100': 480,\n",
              " 'görünüyor': 481,\n",
              " 'yumuşak': 482,\n",
              " 'kısmı': 483,\n",
              " 'gore': 484,\n",
              " 'size': 485,\n",
              " 'kablo': 486,\n",
              " 'temizlik': 487,\n",
              " 'buradan': 488,\n",
              " 'orta': 489,\n",
              " 'hak': 490,\n",
              " 'piyasadaki': 491,\n",
              " 'yere': 492,\n",
              " 'net': 493,\n",
              " 'müzik': 494,\n",
              " 'beğendi': 495,\n",
              " 'günlük': 496,\n",
              " 'rahatlığıyla': 497,\n",
              " 'urunu': 498,\n",
              " 'eder': 499,\n",
              " 'hız': 500,\n",
              " 'oğlum': 501,\n",
              " 'bedava': 502,\n",
              " 'kalın': 503,\n",
              " 'siyah': 504,\n",
              " 'istediğim': 505,\n",
              " 'hesaplı': 506,\n",
              " 'degil': 507,\n",
              " 'yoksa': 508,\n",
              " 'ışık': 509,\n",
              " 'güvenli': 510,\n",
              " 'saç': 511,\n",
              " 'hava': 512,\n",
              " 'yıldız': 513,\n",
              " 'onu': 514,\n",
              " 'kılıf': 515,\n",
              " 'kilo': 516,\n",
              " 'belki': 517,\n",
              " 'etmeden': 518,\n",
              " 'fotoğraf': 519,\n",
              " 'bır': 520,\n",
              " 'çıkan': 521,\n",
              " 'piyasaya': 522,\n",
              " 'tşk': 523,\n",
              " 'neredeyse': 524,\n",
              " 'garantili': 525,\n",
              " 'alınabilir': 526,\n",
              " 'temiz': 527,\n",
              " 'olurdu': 528,\n",
              " 'i̇çi̇n': 529,\n",
              " 'kablosu': 530,\n",
              " 'mı': 531,\n",
              " 'siparişi': 532,\n",
              " 'gun': 533,\n",
              " 'olmaz': 534,\n",
              " 'içine': 535,\n",
              " 'olacak': 536,\n",
              " 'birkaç': 537,\n",
              " 'gündür': 538,\n",
              " 'yakın': 539,\n",
              " 'almanızı': 540,\n",
              " 'kendini': 541,\n",
              " 'değer': 542,\n",
              " 'hic': 543,\n",
              " 'keşke': 544,\n",
              " 'çift': 545,\n",
              " 'herşey': 546,\n",
              " 'rengi': 547,\n",
              " 'gönderim': 548,\n",
              " 'buna': 549,\n",
              " 'süpürge': 550,\n",
              " 'traş': 551,\n",
              " 'hoşuma': 552,\n",
              " 'kaldık': 553,\n",
              " 'ekonomik': 554,\n",
              " 'şuan': 555,\n",
              " 'tasarımı': 556,\n",
              " 'içinden': 557,\n",
              " 'araştırdım': 558,\n",
              " 'isteyenlere': 559,\n",
              " 'verdiğim': 560,\n",
              " 'yıllardır': 561,\n",
              " 'dedim': 562,\n",
              " 'yağ': 563,\n",
              " 'makina': 564,\n",
              " 'kalıyor': 565,\n",
              " 'motor': 566,\n",
              " 'oda': 567,\n",
              " 'tatmin': 568,\n",
              " 'mevcut': 569,\n",
              " 'görüyor': 570,\n",
              " 'yapmak': 571,\n",
              " 'şimdilik': 572,\n",
              " 'buldum': 573,\n",
              " 'kızım': 574,\n",
              " 'yanı': 575,\n",
              " 'üstünde': 576,\n",
              " '9': 577,\n",
              " 'kargoda': 578,\n",
              " 'alet': 579,\n",
              " 'kaldı': 580,\n",
              " 'model': 581,\n",
              " 'avantaj': 582,\n",
              " 'beraber': 583,\n",
              " 'sizi': 584,\n",
              " 'müthiş': 585,\n",
              " 'ürünleri': 586,\n",
              " 'olmazsınız': 587,\n",
              " 'olduğundan': 588,\n",
              " 'ederiz': 589,\n",
              " 'bebek': 590,\n",
              " 'geri': 591,\n",
              " 'metal': 592,\n",
              " 'kullanıyordum': 593,\n",
              " 'mouse': 594,\n",
              " 'apple': 595,\n",
              " 'makul': 596,\n",
              " 'başta': 597,\n",
              " 'yaptı': 598,\n",
              " 'açık': 599,\n",
              " 'okudum': 600,\n",
              " 'elimde': 601,\n",
              " 'üzerinden': 602,\n",
              " 'özellik': 603,\n",
              " 'görür': 604,\n",
              " 'aşırı': 605,\n",
              " 'e': 606,\n",
              " 'izi': 607,\n",
              " 'ucuza': 608,\n",
              " 'film': 609,\n",
              " 'garanti': 610,\n",
              " 'olanlara': 611,\n",
              " 'yavaş': 612,\n",
              " 'biz': 613,\n",
              " 'fiyatının': 614,\n",
              " 'olumsuz': 615,\n",
              " 'site': 616,\n",
              " 'bişey': 617,\n",
              " 'sonunda': 618,\n",
              " 'kapalı': 619,\n",
              " 'batarya': 620,\n",
              " 'saati': 621,\n",
              " 'super': 622,\n",
              " 'kullaniyorum': 623,\n",
              " 'ücretsiz': 624,\n",
              " 'birçok': 625,\n",
              " 'tartışılmaz': 626,\n",
              " 'ısınma': 627,\n",
              " 'hakkını': 628,\n",
              " 'alan': 629,\n",
              " 'yapmıyor': 630,\n",
              " 'sene': 631,\n",
              " 'sık': 632,\n",
              " 'zorunda': 633,\n",
              " 'evet': 634,\n",
              " 'hediyesi': 635,\n",
              " 'beklediğim': 636,\n",
              " 'üç': 637,\n",
              " 'önceki': 638,\n",
              " 'eve': 639,\n",
              " 'olunca': 640,\n",
              " 'kelimeyle': 641,\n",
              " 'dakika': 642,\n",
              " 'tasarım': 643,\n",
              " 'diyorum': 644,\n",
              " 'telefonda': 645,\n",
              " 'yoktu': 646,\n",
              " 'uyumlu': 647,\n",
              " 'beyaz': 648,\n",
              " 'iyiki': 649,\n",
              " 'etmek': 650,\n",
              " 'istedim': 651,\n",
              " 'önceden': 652,\n",
              " 'çanta': 653,\n",
              " 'isteyenler': 654,\n",
              " 'kat': 655,\n",
              " 'kullanın': 656,\n",
              " 'severek': 657,\n",
              " 'ikinci': 658,\n",
              " 'bilmiyorum': 659,\n",
              " 'el': 660,\n",
              " 'yorumlarda': 661,\n",
              " 'çekiyor': 662,\n",
              " 'sıkıntısı': 663,\n",
              " 'bazen': 664,\n",
              " 'olmadan': 665,\n",
              " 'kullanma': 666,\n",
              " 'araç': 667,\n",
              " 'olmaması': 668,\n",
              " 'kalitede': 669,\n",
              " 'ona': 670,\n",
              " 'alıyor': 671,\n",
              " 'hepsi̇burada': 672,\n",
              " 'edin': 673,\n",
              " 'firma': 674,\n",
              " 'dayanıklı': 675,\n",
              " 'alt': 676,\n",
              " 'yaparken': 677,\n",
              " 'fiyatlı': 678,\n",
              " 'philips': 679,\n",
              " 'derecede': 680,\n",
              " 'görüntüsü': 681,\n",
              " 'iade': 682,\n",
              " 'taktım': 683,\n",
              " 'koltuk': 684,\n",
              " '16': 685,\n",
              " 'kullanan': 686,\n",
              " 'internet': 687,\n",
              " 'elimdeydi': 688,\n",
              " 'geniş': 689,\n",
              " 'asla': 690,\n",
              " 'halde': 691,\n",
              " 'eden': 692,\n",
              " 'mukemmel': 693,\n",
              " 'zarar': 694,\n",
              " 'hassas': 695,\n",
              " 'aylık': 696,\n",
              " 'açıkçası': 697,\n",
              " 'başladı': 698,\n",
              " 'resmen': 699,\n",
              " 'ram': 700,\n",
              " 'yeri': 701,\n",
              " 'merhaba': 702,\n",
              " 'neden': 703,\n",
              " 'eksiksiz': 704,\n",
              " 'mutlu': 705,\n",
              " 'kalitesiz': 706,\n",
              " 'yarıyor': 707,\n",
              " 'olabilirdi': 708,\n",
              " 'paketlenmiş': 709,\n",
              " 'kelime': 710,\n",
              " 'iyiydi': 711,\n",
              " 'olmasi': 712,\n",
              " 'idi': 713,\n",
              " '50': 714,\n",
              " 'gerekli': 715,\n",
              " 'etkisi': 716,\n",
              " 'olduğum': 717,\n",
              " 'yinede': 718,\n",
              " 'alin': 719,\n",
              " 'yapan': 720,\n",
              " 'idare': 721,\n",
              " 'saçlarım': 722,\n",
              " 'herkesin': 723,\n",
              " 'hafıza': 724,\n",
              " 'kendim': 725,\n",
              " 'buradaya': 726,\n",
              " 'kullanıyor': 727,\n",
              " 'verildi': 728,\n",
              " 'ara': 729,\n",
              " 'parfümü': 730,\n",
              " 'zamandır': 731,\n",
              " 'siz': 732,\n",
              " 'etmiyor': 733,\n",
              " 'yoğun': 734,\n",
              " '40': 735,\n",
              " 'b': 736,\n",
              " 'kendime': 737,\n",
              " 'ulasti': 738,\n",
              " 'yapılmış': 739,\n",
              " 'verdikten': 740,\n",
              " 'olmayan': 741,\n",
              " 'vermeye': 742,\n",
              " 'durum': 743,\n",
              " 'ayrica': 744,\n",
              " 'almış': 745,\n",
              " 'yorumlar': 746,\n",
              " 'düşünenlere': 747,\n",
              " 'yedek': 748,\n",
              " 'eksik': 749,\n",
              " 'video': 750,\n",
              " 'yerden': 751,\n",
              " 'çekiş': 752,\n",
              " 'göz': 753,\n",
              " 'aldı': 754,\n",
              " 'cuma': 755,\n",
              " 'eksiği': 756,\n",
              " 'içi': 757,\n",
              " 'sonuçta': 758,\n",
              " 'merak': 759,\n",
              " 'uygulama': 760,\n",
              " 'isteyen': 761,\n",
              " 'etmiyorum': 762,\n",
              " 'deneme': 763,\n",
              " 'test': 764,\n",
              " 'ihtiyacı': 765,\n",
              " 'işi': 766,\n",
              " 'cam': 767,\n",
              " 'yapıyorum': 768,\n",
              " 'acaba': 769,\n",
              " 'temizliyor': 770,\n",
              " 'türkiye': 771,\n",
              " 'kullanabilirsiniz': 772,\n",
              " 'rahatlığı': 773,\n",
              " 'hepsiburadadan': 774,\n",
              " 'görmedim': 775,\n",
              " 'p': 776,\n",
              " 'aldıktan': 777,\n",
              " 'ürünle': 778,\n",
              " 'aleti': 779,\n",
              " 'kısacası': 780,\n",
              " 'hakkında': 781,\n",
              " 'şimdiye': 782,\n",
              " 'kış': 783,\n",
              " 'olumlu': 784,\n",
              " 'faydalı': 785,\n",
              " 'elinize': 786,\n",
              " 'ekranı': 787,\n",
              " 'ana': 788,\n",
              " 'mümkün': 789,\n",
              " 'haricinde': 790,\n",
              " 'piyasa': 791,\n",
              " 'dokunmatik': 792,\n",
              " 'd': 793,\n",
              " 'tavsiyem': 794,\n",
              " 'denemek': 795,\n",
              " 'i': 796,\n",
              " 'gösteriyor': 797,\n",
              " 'elde': 798,\n",
              " 'siparis': 799,\n",
              " 'kanal': 800,\n",
              " 'km': 801,\n",
              " 'tabiki': 802,\n",
              " 'cabası': 803,\n",
              " 'donma': 804,\n",
              " 'boyutu': 805,\n",
              " 'emiş': 806,\n",
              " 'alacaklara': 807,\n",
              " 'ürünlere': 808,\n",
              " 'gerçek': 809,\n",
              " 'dış': 810,\n",
              " 'kaldim': 811,\n",
              " 'türlü': 812,\n",
              " 'söyleyebilirim': 813,\n",
              " 'malı': 814,\n",
              " 'hissi': 815,\n",
              " 'ütü': 816,\n",
              " 'aslında': 817,\n",
              " 'herkeze': 818,\n",
              " 'takip': 819,\n",
              " 'problemi': 820,\n",
              " 'dahi': 821,\n",
              " 'konuda': 822,\n",
              " 'markanın': 823,\n",
              " 'yardımcı': 824,\n",
              " 'yaz': 825,\n",
              " 'tavsıye': 826,\n",
              " 'kargolama': 827,\n",
              " 'değilim': 828,\n",
              " 'elektrik': 829,\n",
              " 'araba': 830,\n",
              " 'karşı': 831,\n",
              " 'hayırlı': 832,\n",
              " 'once': 833,\n",
              " 'fiyatını': 834,\n",
              " 'kontrol': 835,\n",
              " 'lg': 836,\n",
              " 'fayda': 837,\n",
              " 'yatak': 838,\n",
              " 'kutusu': 839,\n",
              " 'olmak': 840,\n",
              " 'emin': 841,\n",
              " 'pazartesi': 842,\n",
              " 'zamanla': 843,\n",
              " 'f': 844,\n",
              " 'ciddi': 845,\n",
              " 'kullandıktan': 846,\n",
              " 'zarif': 847,\n",
              " 'akıcı': 848,\n",
              " 'düzgün': 849,\n",
              " 'parasını': 850,\n",
              " 'telefondan': 851,\n",
              " 'özel': 852,\n",
              " 'gelir': 853,\n",
              " 'i̇ki': 854,\n",
              " 'kalitesine': 855,\n",
              " 's': 856,\n",
              " 'montaj': 857,\n",
              " 'veren': 858,\n",
              " 'çıkmadı': 859,\n",
              " 'sağlıklı': 860,\n",
              " 'yerli': 861,\n",
              " 'klasik': 862,\n",
              " 'ayni': 863,\n",
              " 'fön': 864,\n",
              " 'düzenli': 865,\n",
              " 'kibar': 866,\n",
              " 'kullanmadım': 867,\n",
              " 'istiyorsanız': 868,\n",
              " 'anladım': 869,\n",
              " 'birisi': 870,\n",
              " 'soğuk': 871,\n",
              " 'bağlantı': 872,\n",
              " 'olmadığı': 873,\n",
              " 'sıfır': 874,\n",
              " 'yarım': 875,\n",
              " 'okuma': 876,\n",
              " 'normalde': 877,\n",
              " 'makinesi': 878,\n",
              " 'beden': 879,\n",
              " 'xiaomi': 880,\n",
              " 'parça': 881,\n",
              " 'anneme': 882,\n",
              " 'bulmak': 883,\n",
              " 'kullanılabilir': 884,\n",
              " 'verilen': 885,\n",
              " 'düşünmeyin': 886,\n",
              " 'birebir': 887,\n",
              " 'ömrü': 888,\n",
              " 'siteden': 889,\n",
              " 'beklemeyin': 890,\n",
              " 'hale': 891,\n",
              " 'saglam': 892,\n",
              " 'günden': 893,\n",
              " 'eksi': 894,\n",
              " 'tahmin': 895,\n",
              " 'boyu': 896,\n",
              " 'sürükleyici': 897,\n",
              " 'hareket': 898,\n",
              " 'bakımından': 899,\n",
              " 'begendim': 900,\n",
              " 'kaçmaz': 901,\n",
              " 'oranı': 902,\n",
              " 'kalmadı': 903,\n",
              " 'led': 904,\n",
              " 'kullanırken': 905,\n",
              " 'koruyucu': 906,\n",
              " 'kullanisli': 907,\n",
              " 'çocuk': 908,\n",
              " 'bilgisayar': 909,\n",
              " 'gelmesi': 910,\n",
              " 'cihazın': 911,\n",
              " 'çoğu': 912,\n",
              " 'cm': 913,\n",
              " 'hd': 914,\n",
              " 'telefonum': 915,\n",
              " 'ısınıyor': 916,\n",
              " 'pili': 917,\n",
              " 'markası': 918,\n",
              " 'temizliği': 919,\n",
              " 'yazma': 920,\n",
              " 'tesekkur': 921,\n",
              " 'arkadaşım': 922,\n",
              " 'sonucu': 923,\n",
              " 'indirim': 924,\n",
              " 'zayıf': 925,\n",
              " 'verip': 926,\n",
              " 'kapak': 927,\n",
              " 'akıllı': 928,\n",
              " 'şarjlı': 929,\n",
              " 'sistemi': 930,\n",
              " 'sony': 931,\n",
              " 'karşılıyor': 932,\n",
              " 'boşuna': 933,\n",
              " 'kusursuz': 934,\n",
              " 'yi': 935,\n",
              " 'olsaydı': 936,\n",
              " 'almayın': 937,\n",
              " 'kampanya': 938,\n",
              " 'ekstra': 939,\n",
              " 'çıkarıyor': 940,\n",
              " 'profesyonel': 941,\n",
              " 'direk': 942,\n",
              " 'burda': 943,\n",
              " 'genelde': 944,\n",
              " 'başlık': 945,\n",
              " 'karşıladı': 946,\n",
              " 'bluetooth': 947,\n",
              " 'iç': 948,\n",
              " 'ayarı': 949,\n",
              " 'alınır': 950,\n",
              " 'kuru': 951,\n",
              " 'üstüne': 952,\n",
              " 'seviyede': 953,\n",
              " 'insan': 954,\n",
              " 'sonrası': 955,\n",
              " 'lik': 956,\n",
              " 'vestel': 957,\n",
              " 'arkadaslar': 958,\n",
              " 'siparişim': 959,\n",
              " 'söz': 960,\n",
              " 'buradaki': 961,\n",
              " '00': 962,\n",
              " 'mavi': 963,\n",
              " 'tarafı': 964,\n",
              " 'nin': 965,\n",
              " 'ürünlerden': 966,\n",
              " 'ortalama': 967,\n",
              " 'burdan': 968,\n",
              " 'alacağım': 969,\n",
              " 'malzemesi': 970,\n",
              " 'eminim': 971,\n",
              " 'paketi': 972,\n",
              " 'kokuyu': 973,\n",
              " 'kendisi': 974,\n",
              " 'fiyatta': 975,\n",
              " 'artı': 976,\n",
              " 'kalıcılığı': 977,\n",
              " 'yaptığım': 978,\n",
              " 'olacağını': 979,\n",
              " 'bol': 980,\n",
              " 'kolayca': 981,\n",
              " 'oturuyor': 982,\n",
              " 'düşünen': 983,\n",
              " 'ergonomik': 984,\n",
              " 'markalara': 985,\n",
              " 'kullanmıştım': 986,\n",
              " 'full': 987,\n",
              " 'kali̇teli̇': 988,\n",
              " 'kasma': 989,\n",
              " 'olanı': 990,\n",
              " 'premium': 991,\n",
              " 'olup': 992,\n",
              " 'kablosuz': 993,\n",
              " 'bulamazsınız': 994,\n",
              " 'pc': 995,\n",
              " 'telefonumu': 996,\n",
              " 'yan': 997,\n",
              " 'modeli': 998,\n",
              " 'indirimli': 999,\n",
              " 'hele': 1000,\n",
              " ...}"
            ]
          },
          "metadata": {},
          "execution_count": 14
        }
      ],
      "source": [
        "tokenizer.word_index"
      ]
    },
    {
      "cell_type": "code",
      "execution_count": 15,
      "metadata": {
        "colab": {
          "base_uri": "https://localhost:8080/"
        },
        "id": "01oWtDTTMP3J",
        "outputId": "33c1b728-36e1-4b2a-e00b-8270bb3a63bb"
      },
      "outputs": [
        {
          "output_type": "execute_result",
          "data": {
            "text/plain": [
              "205230"
            ]
          },
          "metadata": {},
          "execution_count": 15
        }
      ],
      "source": [
        "len(tokenizer.word_index)"
      ]
    },
    {
      "cell_type": "markdown",
      "metadata": {
        "id": "1sENSxrzMP3J"
      },
      "source": [
        "## Converting tokens to numeric"
      ]
    },
    {
      "cell_type": "code",
      "execution_count": 16,
      "metadata": {
        "id": "OL-LESXtMP3J"
      },
      "outputs": [],
      "source": [
        "X_train_num_tokens = tokenizer.texts_to_sequences(X_train)\n",
        "X_test_num_tokens = tokenizer.texts_to_sequences(X_test)\n",
        "# text'ten numeric verisyona çeviriyoruz."
      ]
    },
    {
      "cell_type": "code",
      "execution_count": 17,
      "metadata": {
        "colab": {
          "base_uri": "https://localhost:8080/"
        },
        "id": "UR0ED18aMP3K",
        "outputId": "6d2029c1-8ca9-4d30-f1e0-d3b6fe82043d"
      },
      "outputs": [
        {
          "output_type": "execute_result",
          "data": {
            "text/plain": [
              "219147"
            ]
          },
          "metadata": {},
          "execution_count": 17
        }
      ],
      "source": [
        "len(X_train_num_tokens)"
      ]
    },
    {
      "cell_type": "code",
      "execution_count": 18,
      "metadata": {
        "colab": {
          "base_uri": "https://localhost:8080/",
          "height": 147
        },
        "id": "sFpOQBoqMP3K",
        "outputId": "fec5de46-e7b8-4c7e-fc11-7844e2e08ab2"
      },
      "outputs": [
        {
          "output_type": "execute_result",
          "data": {
            "text/plain": [
              "143605    ürünü yaklaşık 2 senedir kullaniyorum. bu fiya...\n",
              "133710    Ürünün tüm aparatlarını kullandım . Tereddüt e...\n",
              "Name: Review, dtype: object"
            ],
            "text/html": [
              "<div>\n",
              "<style scoped>\n",
              "    .dataframe tbody tr th:only-of-type {\n",
              "        vertical-align: middle;\n",
              "    }\n",
              "\n",
              "    .dataframe tbody tr th {\n",
              "        vertical-align: top;\n",
              "    }\n",
              "\n",
              "    .dataframe thead th {\n",
              "        text-align: right;\n",
              "    }\n",
              "</style>\n",
              "<table border=\"1\" class=\"dataframe\">\n",
              "  <thead>\n",
              "    <tr style=\"text-align: right;\">\n",
              "      <th></th>\n",
              "      <th>Review</th>\n",
              "    </tr>\n",
              "  </thead>\n",
              "  <tbody>\n",
              "    <tr>\n",
              "      <th>143605</th>\n",
              "      <td>ürünü yaklaşık 2 senedir kullaniyorum. bu fiya...</td>\n",
              "    </tr>\n",
              "    <tr>\n",
              "      <th>133710</th>\n",
              "      <td>Ürünün tüm aparatlarını kullandım . Tereddüt e...</td>\n",
              "    </tr>\n",
              "  </tbody>\n",
              "</table>\n",
              "</div><br><label><b>dtype:</b> object</label>"
            ]
          },
          "metadata": {},
          "execution_count": 18
        }
      ],
      "source": [
        "X_test[:2]"
      ]
    },
    {
      "cell_type": "code",
      "source": [
        "np.array(X_test_num_tokens[:2], dtype = \"object\")"
      ],
      "metadata": {
        "colab": {
          "base_uri": "https://localhost:8080/"
        },
        "id": "0vnVyuAV88Bd",
        "outputId": "c91b435f-6de2-4704-c865-7178e88128a7"
      },
      "execution_count": 19,
      "outputs": [
        {
          "output_type": "execute_result",
          "data": {
            "text/plain": [
              "array([list([19, 163, 27, 1047, 623, 5, 39, 25, 22, 669, 966, 225, 9, 10]),\n",
              "       list([110, 173, 13278, 141, 236, 518, 106, 221, 68, 1146, 1, 435, 976, 4049, 4056, 10805, 15, 81, 3, 411, 1647, 35, 1705, 3, 173, 1073, 923, 1850, 551, 154, 13, 8050, 919, 5065, 5385, 368, 894, 4049, 243, 653, 1, 177, 2267, 8, 113, 5841, 2, 268, 2164, 1188, 13, 212])],\n",
              "      dtype=object)"
            ]
          },
          "metadata": {},
          "execution_count": 19
        }
      ]
    },
    {
      "cell_type": "code",
      "source": [
        "X_test.iloc[10]"
      ],
      "metadata": {
        "colab": {
          "base_uri": "https://localhost:8080/",
          "height": 35
        },
        "id": "FXN_7ZgU9IPd",
        "outputId": "46194773-d014-4fd6-e148-ee3b5dea7241"
      },
      "execution_count": 20,
      "outputs": [
        {
          "output_type": "execute_result",
          "data": {
            "text/plain": [
              "'ürünün kalitesi ortada fiyata gelince samsung türkiye garantili olup tüm renk seçenekleri ile en uygun satıcı hepsiburada'"
            ],
            "application/vnd.google.colaboratory.intrinsic+json": {
              "type": "string"
            }
          },
          "metadata": {},
          "execution_count": 20
        }
      ]
    },
    {
      "cell_type": "code",
      "source": [
        "X_test_num_tokens[10]"
      ],
      "metadata": {
        "colab": {
          "base_uri": "https://localhost:8080/"
        },
        "id": "OXpRsaUS9P-m",
        "outputId": "08cc6952-df28-43f7-892d-69a35bb51b9f"
      },
      "execution_count": 21,
      "outputs": [
        {
          "output_type": "execute_result",
          "data": {
            "text/plain": [
              "[110,\n",
              " 62,\n",
              " 1440,\n",
              " 39,\n",
              " 436,\n",
              " 228,\n",
              " 771,\n",
              " 525,\n",
              " 992,\n",
              " 173,\n",
              " 419,\n",
              " 4129,\n",
              " 31,\n",
              " 25,\n",
              " 22,\n",
              " 393,\n",
              " 34]"
            ]
          },
          "metadata": {},
          "execution_count": 21
        }
      ]
    },
    {
      "cell_type": "markdown",
      "source": [
        "## Maximum number of tokens for all documents"
      ],
      "metadata": {
        "id": "hMRq6Oh90GXq"
      }
    },
    {
      "cell_type": "code",
      "execution_count": 22,
      "metadata": {
        "colab": {
          "base_uri": "https://localhost:8080/"
        },
        "id": "h8qwAwEHMP3L",
        "outputId": "8e712f41-77f5-4a80-909c-209d9c88b7d2"
      },
      "outputs": [
        {
          "output_type": "execute_result",
          "data": {
            "text/plain": [
              "1"
            ]
          },
          "metadata": {},
          "execution_count": 22
        }
      ],
      "source": [
        "len(X_train_num_tokens[105])"
      ]
    },
    {
      "cell_type": "code",
      "execution_count": 23,
      "metadata": {
        "colab": {
          "base_uri": "https://localhost:8080/"
        },
        "id": "1E-ySfDiMP3M",
        "outputId": "14b5ccde-c30e-48c7-f1fa-0cd843f8c50f"
      },
      "outputs": [
        {
          "output_type": "execute_result",
          "data": {
            "text/plain": [
              "17"
            ]
          },
          "metadata": {},
          "execution_count": 23
        }
      ],
      "source": [
        "len(X_train_num_tokens[106])"
      ]
    },
    {
      "cell_type": "code",
      "execution_count": 24,
      "metadata": {
        "colab": {
          "base_uri": "https://localhost:8080/"
        },
        "id": "mOQfFfutfMTn",
        "outputId": "01503e24-c8a7-416c-adca-5f9469c9cc15"
      },
      "outputs": [
        {
          "output_type": "execute_result",
          "data": {
            "text/plain": [
              "17"
            ]
          },
          "metadata": {},
          "execution_count": 24
        }
      ],
      "source": [
        "len(X_train_num_tokens[6150])"
      ]
    },
    {
      "cell_type": "code",
      "execution_count": 25,
      "metadata": {
        "id": "dp7-tP7MMP3M"
      },
      "outputs": [],
      "source": [
        "num_tokens = [len(tokens) for tokens in X_train_num_tokens]\n",
        "num_tokens = np.array(num_tokens)\n",
        "\n",
        "# train corpustaki tüm yorumların boyutlarını bir liste içine atıp num_tokens değişkenine atadık.\n",
        "# Aggrigation fonksiyonlarını pratik bir şeklide arraylere uygulabildiği için listeyi array formatına dönüştürdük."
      ]
    },
    {
      "cell_type": "code",
      "source": [
        "num_tokens"
      ],
      "metadata": {
        "colab": {
          "base_uri": "https://localhost:8080/"
        },
        "id": "9hO5Jgp8VG5B",
        "outputId": "22a43669-ef8a-4357-c68b-f40bc7c59b25"
      },
      "execution_count": 26,
      "outputs": [
        {
          "output_type": "execute_result",
          "data": {
            "text/plain": [
              "array([45,  9, 22, ...,  8,  6,  5])"
            ]
          },
          "metadata": {},
          "execution_count": 26
        }
      ]
    },
    {
      "cell_type": "code",
      "execution_count": 27,
      "metadata": {
        "colab": {
          "base_uri": "https://localhost:8080/"
        },
        "id": "4mIHsbiDMP3N",
        "outputId": "488b02dd-0af9-45e7-8daf-4b5863f64164"
      },
      "outputs": [
        {
          "output_type": "execute_result",
          "data": {
            "text/plain": [
              "21.34293875800262"
            ]
          },
          "metadata": {},
          "execution_count": 27
        }
      ],
      "source": [
        "num_tokens.mean()"
      ]
    },
    {
      "cell_type": "code",
      "execution_count": 28,
      "metadata": {
        "colab": {
          "base_uri": "https://localhost:8080/"
        },
        "id": "c-iTNs-0MP3N",
        "outputId": "81188136-b792-4690-b089-56abdb3dbac2"
      },
      "outputs": [
        {
          "output_type": "execute_result",
          "data": {
            "text/plain": [
              "297"
            ]
          },
          "metadata": {},
          "execution_count": 28
        }
      ],
      "source": [
        "num_tokens.max()"
      ]
    },
    {
      "cell_type": "code",
      "execution_count": 29,
      "metadata": {
        "colab": {
          "base_uri": "https://localhost:8080/"
        },
        "id": "Wdpbr6TPMP3O",
        "outputId": "42845888-5912-4f05-a9ac-4a2afe75eecc"
      },
      "outputs": [
        {
          "output_type": "execute_result",
          "data": {
            "text/plain": [
              "159025"
            ]
          },
          "metadata": {},
          "execution_count": 29
        }
      ],
      "source": [
        "num_tokens.argmax() # listedeki en uzun yorumun indexini argmax ile bulabiliyoruz."
      ]
    },
    {
      "cell_type": "code",
      "execution_count": 30,
      "metadata": {
        "colab": {
          "base_uri": "https://localhost:8080/",
          "height": 140
        },
        "id": "bv29eaR2MP3P",
        "outputId": "c9629e60-0259-4e7e-f185-26e66d0b43f3"
      },
      "outputs": [
        {
          "output_type": "execute_result",
          "data": {
            "text/plain": [
              "'Özellikle bu kısma yazıyorum iyice okuyunuz,cihazın hızı çok iyi.Isınma normal boyutlarda.Kamerası elinizi sabit tutarsanız ve gündüz çok net gece ise çok net çekmez.Görüntülü konuşma özelliği yok ancak uygulama ile olur,anten çekimi gayet iyi.Parmak izi okuyucusu gayet hızlı bazen tuşu silmenizi istiyor ve okuyamıyor kirden vs...Ön kamera da tatmin edici,çekim esnasında ekran beyaz ışık vererek flaş görevi görür.Batarya bana 1 hafta gidiyor sık kullanımda ise 2-3 gün gidiyor.Hızlı şarj 1 saatte doluyor , şekilleri ele oturuyor ve şık bir görüntü var.Telefonu aldığım gün gittim ve ilk girdiğim yerden ekran koruyucu ve kılıf buldum.Kulaklık sesi çok net ve yüksek ancak kendi hoparlörü biraz zayıf sesi.Ekrana bakarken açık kalma özelliği yok.Diğer akıllı cihaz özellikleri %90 ı bu cihazda mevcut.Güç tasarrufu 2 ayrı modu var ve çok başarılı çalışıyor.4gb ram var genelde yarısı boş kalıyor.Bir de yeni cihazların çoğu titreşimi az ve sesi de az çıkıyor.Bu cihaz da içine dahil...Bu cihazlar güncelleme almaz ve rom bulunmuyormuş.Benim için güncelleme sorun olmaz -cihaz parasına göre s serisi ile yarışıyor çünkü.Biraz metal olmasından dolayı elden kolay kaysada duruşu ve gösterişi iyidir.Çift flaşı var arkada.Kısaca şöyle ki bu fiyata bu ürün alınır.5 aydır kullanıyorum kasma donma felan zaten olmaz,bataryası iyi,şekli iyi,özellikler de iyi....En büyük kafa karıştıran soru şu ki hadi cihaz arıza yaptı veya düştü ekranı kırıldı.Bunun bir servisi var,ithalatçı garantisi de var.Cihazın adı sanı belli...Parça bulanmaz tamir olmaz derseniz size kalmış.Zaten normal bir cihazı da düşürseniz farkedermi?.Güncelleme almaz diyorlar bu konuda düşünebilirsiniz.S serisi cihazlarla hızını kıyaslarsınız ama güncelleme ile araya fark koymuşlar.İki katı fiyata satılan cihazla farkı olmasa zaten olmaz değil mi?Almayı düşünenler başka bir cihazla kıyas yapacaksa yine  7pro veya 9 baksınlar.C5 pro da biraz boyutu kısa ve kibar....Sonuçta ömürlük değil alın fazla düşünmeyin'"
            ],
            "application/vnd.google.colaboratory.intrinsic+json": {
              "type": "string"
            }
          },
          "metadata": {},
          "execution_count": 30
        }
      ],
      "source": [
        "X_train.iloc[num_tokens.argmax()]"
      ]
    },
    {
      "cell_type": "code",
      "execution_count": 31,
      "metadata": {
        "colab": {
          "base_uri": "https://localhost:8080/"
        },
        "id": "_W8AuJEcfe7s",
        "outputId": "986baf72-1559-4060-c693-b6cef093d386"
      },
      "outputs": [
        {
          "output_type": "execute_result",
          "data": {
            "text/plain": [
              "297"
            ]
          },
          "metadata": {},
          "execution_count": 31
        }
      ],
      "source": [
        "len(X_train_num_tokens[num_tokens.argmax()])"
      ]
    },
    {
      "cell_type": "code",
      "execution_count": 32,
      "metadata": {
        "id": "-k5VZDpjMP3Q"
      },
      "outputs": [],
      "source": [
        "max_tokens = 56 # tokenlerin %95'ini almak için 56 değerini veriyoruz."
      ]
    },
    {
      "cell_type": "code",
      "execution_count": 33,
      "metadata": {
        "colab": {
          "base_uri": "https://localhost:8080/"
        },
        "id": "Xal4WMNoMP3Q",
        "outputId": "9ea23b85-44b9-441d-fb36-0d9efd188c26"
      },
      "outputs": [
        {
          "output_type": "execute_result",
          "data": {
            "text/plain": [
              "0.9502115018686087"
            ]
          },
          "metadata": {},
          "execution_count": 33
        }
      ],
      "source": [
        "sum(num_tokens < max_tokens) / len(num_tokens) # Maliyeti azaltmak için %95 ve üstü alıyoruz. Deneme yanılma ile max_tokens değeri belirliyoruz."
      ]
    },
    {
      "cell_type": "code",
      "execution_count": 34,
      "metadata": {
        "colab": {
          "base_uri": "https://localhost:8080/"
        },
        "id": "M2U7lFjMMP3R",
        "outputId": "b4098d4b-f51e-4529-e632-698adf362ac2"
      },
      "outputs": [
        {
          "output_type": "execute_result",
          "data": {
            "text/plain": [
              "208236"
            ]
          },
          "metadata": {},
          "execution_count": 34
        }
      ],
      "source": [
        "sum(num_tokens < max_tokens)"
      ]
    },
    {
      "cell_type": "code",
      "execution_count": 35,
      "metadata": {
        "colab": {
          "base_uri": "https://localhost:8080/"
        },
        "id": "1lGeDqduMP3R",
        "outputId": "10bb4310-3eef-4756-e22c-cffc403c9050"
      },
      "outputs": [
        {
          "output_type": "execute_result",
          "data": {
            "text/plain": [
              "219147"
            ]
          },
          "metadata": {},
          "execution_count": 35
        }
      ],
      "source": [
        "len(num_tokens)"
      ]
    },
    {
      "cell_type": "markdown",
      "metadata": {
        "id": "fvfHyoaKMP3R"
      },
      "source": [
        "## Fixing token counts of all documents (pad_sequences)"
      ]
    },
    {
      "cell_type": "code",
      "execution_count": 36,
      "metadata": {
        "id": "bs3CarRdMP3R"
      },
      "outputs": [],
      "source": [
        "X_train_pad = pad_sequences(X_train_num_tokens, maxlen=max_tokens, padding='pre')\n",
        "X_test_pad = pad_sequences(X_test_num_tokens, maxlen=max_tokens, padding='pre')\n",
        "\n",
        "# padding = \"pre\", dolgu ve kırpmalar baştan yapılır.\n",
        "# padding = \"post\", dolgu ve ırpmalaraı sondan alır. Artık hangisi iyi sonuç verirse onunla devam edilir.\n",
        "\n",
        "# pad_sequences fonksiyonu içine yorumların numeric versiyonları ve sabitleyeceği uzunluk verilerek tüm yorumlar 56 tokene sabitlenir.\n",
        "# 56'dan daha az tokene sahip yorumlar, yorum başına ilave edilecek şekilde 0'lar doldurulur.\n",
        "# 56'dan fazla olan sahip yorumlarda, yorumun başından olacak şekilde tokenler kırpılır."
      ]
    },
    {
      "cell_type": "code",
      "execution_count": 37,
      "metadata": {
        "colab": {
          "base_uri": "https://localhost:8080/"
        },
        "id": "NJsSbXm_MP3S",
        "outputId": "b67312ca-e4a7-4cfc-f811-751651511daf"
      },
      "outputs": [
        {
          "output_type": "execute_result",
          "data": {
            "text/plain": [
              "(219147, 56)"
            ]
          },
          "metadata": {},
          "execution_count": 37
        }
      ],
      "source": [
        "X_train_pad.shape"
      ]
    },
    {
      "cell_type": "code",
      "execution_count": 38,
      "metadata": {
        "colab": {
          "base_uri": "https://localhost:8080/"
        },
        "id": "9byUlLyPMP3S",
        "outputId": "a1d06753-df96-4a4b-d82a-e0218cc35efa"
      },
      "outputs": [
        {
          "output_type": "execute_result",
          "data": {
            "text/plain": [
              "array([  19,  524,  121,  466,   55,    3,    1,   83,   74,    2, 2741,\n",
              "        878,   45,  206, 4105,   93, 1036,   68,   13,    1,   22,    9,\n",
              "         10])"
            ]
          },
          "metadata": {},
          "execution_count": 38
        }
      ],
      "source": [
        "np.array(X_train_num_tokens[800])"
      ]
    },
    {
      "cell_type": "code",
      "source": [
        "len(np.array(X_train_num_tokens[800]))"
      ],
      "metadata": {
        "colab": {
          "base_uri": "https://localhost:8080/"
        },
        "id": "58PMSYooYApW",
        "outputId": "045349a8-6d44-4e03-abf6-a18f9db39542"
      },
      "execution_count": 39,
      "outputs": [
        {
          "output_type": "execute_result",
          "data": {
            "text/plain": [
              "23"
            ]
          },
          "metadata": {},
          "execution_count": 39
        }
      ]
    },
    {
      "cell_type": "code",
      "execution_count": 40,
      "metadata": {
        "colab": {
          "base_uri": "https://localhost:8080/"
        },
        "id": "4skufTFRMP3T",
        "outputId": "bcdb2420-cc90-4130-f653-d4d3625aee6d"
      },
      "outputs": [
        {
          "output_type": "execute_result",
          "data": {
            "text/plain": [
              "array([  144,     5,  6034,  2262,  1616,   911,   203,     1,     6,\n",
              "        2938,   164,  4523,   374,  3443,  1531, 13099,     3,  1391,\n",
              "           1,   493,   280,   140,     1,   493,  3267,  2386,   239,\n",
              "          21,    82,   760,    31,   212,  4785,  1431,    14,     6,\n",
              "         471,   607,  2161,    14,    15,   664,  1736,  2166,     3,\n",
              "         313,   444,   258,    13,   568,   460,   468,  1649,   166,\n",
              "         648,   509,  3232,  5471,  6629,   604,   620,   153,    38,\n",
              "         194,   273,   632,   404,   140,    27,    52,    40,   273,\n",
              "          15,    81,    38,   461,  1670, 12275,  1038,   982,     3,\n",
              "          96,     2,   317,    35,   134,   170,    40,  2837,     3,\n",
              "          76,   751,   166,   906,     3,   515,   573,   362,   195,\n",
              "           1,   493,     3,   172,    82,   255,  6411,    45,   925,\n",
              "         195,  2075,  7012,   599,  7808,   239,    21,   104,   928,\n",
              "         135,   391,  1303,  1875,     5,  2156,   569,  1053,  2204,\n",
              "          27,   335,  1901,    35,     3,     1,    79,   192,  3432,\n",
              "         700,    35,   944,  2853,  1354,   565,     2,    18,   136,\n",
              "        6582,   912,  3222,   133,     3,   195,    18,   133,   368,\n",
              "           5,   135,    13,   535,  1204,     5,  3122,  1284,  1840,\n",
              "           3,  4719,   119,     8,  1284,   105,   534,   135,  1175,\n",
              "          32,   856,  1658,    31,   204,    45,   592,  1321,   256,\n",
              "        3966,    98,  1933,     3,  1873,   545,    35,  3586,  1351,\n",
              "        1800,   102,     5,    39,     5,     4,   950,    65,   306,\n",
              "          55,   989,   804,  1605,    75,   534,  1417,     6,  1947,\n",
              "           6,  1206,    18,     6,    25,   103,  1862,  1420,   221,\n",
              "         102,  4448,   135,  2345,   598,   269,  1518,   787,  2985,\n",
              "         275,     2,  1461,    35,  2640,  1065,    18,    35,   911,\n",
              "        1811,   287,   881,  3415,   534,  1773,   485,  2208,    75,\n",
              "         164,     2,   443,    13,  1284,  1840,  3302,     5,   822,\n",
              "        7712,   856,  1658,  7573,  3445,    12,  1284,    31,  3099,\n",
              "         300,  2720,   854,  1052,    39,  1478,  3341,   319,  1188,\n",
              "          75,   534,    49,   331,   248,  1317,   120,     2,  3341,\n",
              "        7321,   200,   269,   577,  5857,  1869,    13,    45,   805,\n",
              "         108,     3,   866,   758,  5709,    49,   106,    77,   886])"
            ]
          },
          "metadata": {},
          "execution_count": 40
        }
      ],
      "source": [
        "np.array(X_train_num_tokens[159025])"
      ]
    },
    {
      "cell_type": "code",
      "execution_count": 41,
      "metadata": {
        "colab": {
          "base_uri": "https://localhost:8080/"
        },
        "id": "n_yR_ZsfMP3T",
        "outputId": "0ae63241-3891-41cb-ff07-63da52557773"
      },
      "outputs": [
        {
          "output_type": "execute_result",
          "data": {
            "text/plain": [
              "array([2208,   75,  164,    2,  443,   13, 1284, 1840, 3302,    5,  822,\n",
              "       7712,  856, 1658, 7573, 3445,   12, 1284,   31, 3099,  300, 2720,\n",
              "        854, 1052,   39, 1478, 3341,  319, 1188,   75,  534,   49,  331,\n",
              "        248, 1317,  120,    2, 3341, 7321,  200,  269,  577, 5857, 1869,\n",
              "         13,   45,  805,  108,    3,  866,  758, 5709,   49,  106,   77,\n",
              "        886], dtype=int32)"
            ]
          },
          "metadata": {},
          "execution_count": 41
        }
      ],
      "source": [
        "X_train_pad[159025]"
      ]
    },
    {
      "cell_type": "markdown",
      "metadata": {
        "id": "RY35Ev1rMP3W"
      },
      "source": [
        "## Modelling"
      ]
    },
    {
      "cell_type": "code",
      "execution_count": 42,
      "metadata": {
        "id": "GPoCxQyXMP3W"
      },
      "outputs": [],
      "source": [
        "model = Sequential()\n",
        "\n",
        "# Bu model katmanları(layer) birbirini ardışık olarak takip eder.\n",
        "# Layerlar, Sequantial modeline add metoduyla eklenir."
      ]
    },
    {
      "cell_type": "code",
      "execution_count": 43,
      "metadata": {
        "id": "XXOdeDTXMP3W"
      },
      "outputs": [],
      "source": [
        "embedding_size = 50"
      ]
    },
    {
      "cell_type": "code",
      "execution_count": 44,
      "metadata": {
        "id": "WDFpf4fSMP3X"
      },
      "outputs": [],
      "source": [
        "model.add(Embedding(input_dim=num_words,\n",
        "                    output_dim=embedding_size))\n",
        "\n",
        "model.add(Dropout(0.2))\n",
        "\n",
        "model.add(GRU(units=50, return_sequences=True))\n",
        "model.add(Dropout(0.2))\n",
        "\n",
        "model.add(GRU(units=25, return_sequences=True))\n",
        "model.add(Dropout(0.2))\n",
        "\n",
        "model.add(GRU(units=12, return_sequences=False))\n",
        "\n",
        "model.add(Dense(1, activation='sigmoid'))"
      ]
    },
    {
      "cell_type": "code",
      "execution_count": 45,
      "metadata": {
        "id": "pKOLaAIlMP3X"
      },
      "outputs": [],
      "source": [
        "optimizer = Adam(learning_rate=0.008)"
      ]
    },
    {
      "cell_type": "code",
      "execution_count": 46,
      "metadata": {
        "id": "zQqwx6KkMP3X"
      },
      "outputs": [],
      "source": [
        "model.compile(loss='binary_crossentropy',\n",
        "              optimizer=optimizer,\n",
        "              metrics=['Recall'])"
      ]
    },
    {
      "cell_type": "code",
      "execution_count": 47,
      "metadata": {
        "id": "5LxZGh5EMP3Y"
      },
      "outputs": [],
      "source": [
        "from tensorflow.keras.callbacks import EarlyStopping\n",
        "\n",
        "early_stop = EarlyStopping(monitor=\"val_Recall\", mode=\"max\",\n",
        "                           verbose=1, patience = 1, restore_best_weights=True)"
      ]
    },
    {
      "cell_type": "code",
      "execution_count": 48,
      "metadata": {
        "id": "JSHMJXiRMP3Z",
        "colab": {
          "base_uri": "https://localhost:8080/"
        },
        "outputId": "85f8615e-990a-4b2b-9e71-66d76f84c976"
      },
      "outputs": [
        {
          "output_type": "execute_result",
          "data": {
            "text/plain": [
              "array([0.52975261, 8.90262431])"
            ]
          },
          "metadata": {},
          "execution_count": 48
        }
      ],
      "source": [
        "from sklearn.utils import class_weight\n",
        "classes_weights = class_weight.compute_sample_weight(class_weight='balanced', y=y_train)\n",
        "pd.Series(classes_weights).unique()"
      ]
    },
    {
      "cell_type": "code",
      "execution_count": 49,
      "metadata": {
        "colab": {
          "base_uri": "https://localhost:8080/"
        },
        "id": "Aq7oVrxLMP3Z",
        "outputId": "64cc014c-c46d-49ce-a0c5-a86e575dcf1e"
      },
      "outputs": [
        {
          "metadata": {
            "tags": null
          },
          "name": "stdout",
          "output_type": "stream",
          "text": [
            "Epoch 1/10\n",
            "\u001b[1m857/857\u001b[0m \u001b[32m━━━━━━━━━━━━━━━━━━━━\u001b[0m\u001b[37m\u001b[0m \u001b[1m285s\u001b[0m 323ms/step - Recall: 0.8180 - loss: 0.3902 - val_Recall: 0.7865 - val_loss: 0.1354\n",
            "Epoch 2/10\n"
          ]
        },
        {
          "metadata": {
            "tags": null
          },
          "name": "stderr",
          "output_type": "stream",
          "text": [
            "/usr/local/lib/python3.10/dist-packages/keras/src/callbacks/early_stopping.py:155: UserWarning: Early stopping conditioned on metric `val_recall` which is not available. Available metrics are: Recall,loss,val_Recall,val_loss\n",
            "  current = self.get_monitor_value(logs)\n"
          ]
        },
        {
          "output_type": "stream",
          "name": "stdout",
          "text": [
            "\u001b[1m857/857\u001b[0m \u001b[32m━━━━━━━━━━━━━━━━━━━━\u001b[0m\u001b[37m\u001b[0m \u001b[1m278s\u001b[0m 273ms/step - Recall: 0.9248 - loss: 0.2006 - val_Recall: 0.8582 - val_loss: 0.1834\n",
            "Epoch 3/10\n",
            "\u001b[1m857/857\u001b[0m \u001b[32m━━━━━━━━━━━━━━━━━━━━\u001b[0m\u001b[37m\u001b[0m \u001b[1m236s\u001b[0m 276ms/step - Recall: 0.9539 - loss: 0.1521 - val_Recall: 0.8545 - val_loss: 0.1886\n",
            "Epoch 4/10\n",
            "\u001b[1m857/857\u001b[0m \u001b[32m━━━━━━━━━━━━━━━━━━━━\u001b[0m\u001b[37m\u001b[0m \u001b[1m267s\u001b[0m 282ms/step - Recall: 0.9635 - loss: 0.1300 - val_Recall: 0.8224 - val_loss: 0.1793\n",
            "Epoch 5/10\n",
            "\u001b[1m857/857\u001b[0m \u001b[32m━━━━━━━━━━━━━━━━━━━━\u001b[0m\u001b[37m\u001b[0m \u001b[1m258s\u001b[0m 277ms/step - Recall: 0.9620 - loss: 0.1269 - val_Recall: 0.8458 - val_loss: 0.2049\n",
            "Epoch 6/10\n",
            "\u001b[1m857/857\u001b[0m \u001b[32m━━━━━━━━━━━━━━━━━━━━\u001b[0m\u001b[37m\u001b[0m \u001b[1m238s\u001b[0m 278ms/step - Recall: 0.9620 - loss: 0.1283 - val_Recall: 0.8348 - val_loss: 0.1974\n",
            "Epoch 7/10\n",
            "\u001b[1m857/857\u001b[0m \u001b[32m━━━━━━━━━━━━━━━━━━━━\u001b[0m\u001b[37m\u001b[0m \u001b[1m257s\u001b[0m 272ms/step - Recall: 0.9616 - loss: 0.1287 - val_Recall: 0.7931 - val_loss: 0.1706\n",
            "Epoch 8/10\n",
            "\u001b[1m857/857\u001b[0m \u001b[32m━━━━━━━━━━━━━━━━━━━━\u001b[0m\u001b[37m\u001b[0m \u001b[1m266s\u001b[0m 277ms/step - Recall: 0.9619 - loss: 0.1255 - val_Recall: 0.8129 - val_loss: 0.1947\n",
            "Epoch 9/10\n",
            "\u001b[1m857/857\u001b[0m \u001b[32m━━━━━━━━━━━━━━━━━━━━\u001b[0m\u001b[37m\u001b[0m \u001b[1m262s\u001b[0m 277ms/step - Recall: 0.9622 - loss: 0.1258 - val_Recall: 0.8019 - val_loss: 0.1911\n",
            "Epoch 10/10\n",
            "\u001b[1m857/857\u001b[0m \u001b[32m━━━━━━━━━━━━━━━━━━━━\u001b[0m\u001b[37m\u001b[0m \u001b[1m263s\u001b[0m 279ms/step - Recall: 0.9612 - loss: 0.1281 - val_Recall: 0.7931 - val_loss: 0.1762\n"
          ]
        },
        {
          "output_type": "execute_result",
          "data": {
            "text/plain": [
              "<keras.src.callbacks.history.History at 0x78cb40233dc0>"
            ]
          },
          "metadata": {},
          "execution_count": 49
        }
      ],
      "source": [
        "model.fit(X_train_pad,\n",
        "          y_train,\n",
        "          epochs=10, batch_size=256,\n",
        "          sample_weight= classes_weights,\n",
        "         validation_data=(X_test_pad, y_test),\n",
        "          callbacks=[early_stop])"
      ]
    },
    {
      "cell_type": "markdown",
      "metadata": {
        "id": "fUZGuKlgMP3Z"
      },
      "source": [
        "## Model evaluation"
      ]
    },
    {
      "cell_type": "code",
      "execution_count": 50,
      "metadata": {
        "id": "FY1--hF-MP3Z",
        "colab": {
          "base_uri": "https://localhost:8080/",
          "height": 206
        },
        "outputId": "ab22e5fa-4a12-482a-eddd-9fc8fc55e0af"
      },
      "outputs": [
        {
          "output_type": "execute_result",
          "data": {
            "text/plain": [
              "     Recall      loss  val_Recall  val_loss\n",
              "0  0.867403  0.318470    0.786550  0.135401\n",
              "1  0.928096  0.200601    0.858187  0.183402\n",
              "2  0.947189  0.161901    0.854532  0.188627\n",
              "3  0.956289  0.141704    0.822368  0.179317\n",
              "4  0.956451  0.138325    0.845760  0.204851"
            ],
            "text/html": [
              "\n",
              "  <div id=\"df-8e4e8017-6189-427c-aeea-ac4203ecaecc\" class=\"colab-df-container\">\n",
              "    <div>\n",
              "<style scoped>\n",
              "    .dataframe tbody tr th:only-of-type {\n",
              "        vertical-align: middle;\n",
              "    }\n",
              "\n",
              "    .dataframe tbody tr th {\n",
              "        vertical-align: top;\n",
              "    }\n",
              "\n",
              "    .dataframe thead th {\n",
              "        text-align: right;\n",
              "    }\n",
              "</style>\n",
              "<table border=\"1\" class=\"dataframe\">\n",
              "  <thead>\n",
              "    <tr style=\"text-align: right;\">\n",
              "      <th></th>\n",
              "      <th>Recall</th>\n",
              "      <th>loss</th>\n",
              "      <th>val_Recall</th>\n",
              "      <th>val_loss</th>\n",
              "    </tr>\n",
              "  </thead>\n",
              "  <tbody>\n",
              "    <tr>\n",
              "      <th>0</th>\n",
              "      <td>0.867403</td>\n",
              "      <td>0.318470</td>\n",
              "      <td>0.786550</td>\n",
              "      <td>0.135401</td>\n",
              "    </tr>\n",
              "    <tr>\n",
              "      <th>1</th>\n",
              "      <td>0.928096</td>\n",
              "      <td>0.200601</td>\n",
              "      <td>0.858187</td>\n",
              "      <td>0.183402</td>\n",
              "    </tr>\n",
              "    <tr>\n",
              "      <th>2</th>\n",
              "      <td>0.947189</td>\n",
              "      <td>0.161901</td>\n",
              "      <td>0.854532</td>\n",
              "      <td>0.188627</td>\n",
              "    </tr>\n",
              "    <tr>\n",
              "      <th>3</th>\n",
              "      <td>0.956289</td>\n",
              "      <td>0.141704</td>\n",
              "      <td>0.822368</td>\n",
              "      <td>0.179317</td>\n",
              "    </tr>\n",
              "    <tr>\n",
              "      <th>4</th>\n",
              "      <td>0.956451</td>\n",
              "      <td>0.138325</td>\n",
              "      <td>0.845760</td>\n",
              "      <td>0.204851</td>\n",
              "    </tr>\n",
              "  </tbody>\n",
              "</table>\n",
              "</div>\n",
              "    <div class=\"colab-df-buttons\">\n",
              "\n",
              "  <div class=\"colab-df-container\">\n",
              "    <button class=\"colab-df-convert\" onclick=\"convertToInteractive('df-8e4e8017-6189-427c-aeea-ac4203ecaecc')\"\n",
              "            title=\"Convert this dataframe to an interactive table.\"\n",
              "            style=\"display:none;\">\n",
              "\n",
              "  <svg xmlns=\"http://www.w3.org/2000/svg\" height=\"24px\" viewBox=\"0 -960 960 960\">\n",
              "    <path d=\"M120-120v-720h720v720H120Zm60-500h600v-160H180v160Zm220 220h160v-160H400v160Zm0 220h160v-160H400v160ZM180-400h160v-160H180v160Zm440 0h160v-160H620v160ZM180-180h160v-160H180v160Zm440 0h160v-160H620v160Z\"/>\n",
              "  </svg>\n",
              "    </button>\n",
              "\n",
              "  <style>\n",
              "    .colab-df-container {\n",
              "      display:flex;\n",
              "      gap: 12px;\n",
              "    }\n",
              "\n",
              "    .colab-df-convert {\n",
              "      background-color: #E8F0FE;\n",
              "      border: none;\n",
              "      border-radius: 50%;\n",
              "      cursor: pointer;\n",
              "      display: none;\n",
              "      fill: #1967D2;\n",
              "      height: 32px;\n",
              "      padding: 0 0 0 0;\n",
              "      width: 32px;\n",
              "    }\n",
              "\n",
              "    .colab-df-convert:hover {\n",
              "      background-color: #E2EBFA;\n",
              "      box-shadow: 0px 1px 2px rgba(60, 64, 67, 0.3), 0px 1px 3px 1px rgba(60, 64, 67, 0.15);\n",
              "      fill: #174EA6;\n",
              "    }\n",
              "\n",
              "    .colab-df-buttons div {\n",
              "      margin-bottom: 4px;\n",
              "    }\n",
              "\n",
              "    [theme=dark] .colab-df-convert {\n",
              "      background-color: #3B4455;\n",
              "      fill: #D2E3FC;\n",
              "    }\n",
              "\n",
              "    [theme=dark] .colab-df-convert:hover {\n",
              "      background-color: #434B5C;\n",
              "      box-shadow: 0px 1px 3px 1px rgba(0, 0, 0, 0.15);\n",
              "      filter: drop-shadow(0px 1px 2px rgba(0, 0, 0, 0.3));\n",
              "      fill: #FFFFFF;\n",
              "    }\n",
              "  </style>\n",
              "\n",
              "    <script>\n",
              "      const buttonEl =\n",
              "        document.querySelector('#df-8e4e8017-6189-427c-aeea-ac4203ecaecc button.colab-df-convert');\n",
              "      buttonEl.style.display =\n",
              "        google.colab.kernel.accessAllowed ? 'block' : 'none';\n",
              "\n",
              "      async function convertToInteractive(key) {\n",
              "        const element = document.querySelector('#df-8e4e8017-6189-427c-aeea-ac4203ecaecc');\n",
              "        const dataTable =\n",
              "          await google.colab.kernel.invokeFunction('convertToInteractive',\n",
              "                                                    [key], {});\n",
              "        if (!dataTable) return;\n",
              "\n",
              "        const docLinkHtml = 'Like what you see? Visit the ' +\n",
              "          '<a target=\"_blank\" href=https://colab.research.google.com/notebooks/data_table.ipynb>data table notebook</a>'\n",
              "          + ' to learn more about interactive tables.';\n",
              "        element.innerHTML = '';\n",
              "        dataTable['output_type'] = 'display_data';\n",
              "        await google.colab.output.renderOutput(dataTable, element);\n",
              "        const docLink = document.createElement('div');\n",
              "        docLink.innerHTML = docLinkHtml;\n",
              "        element.appendChild(docLink);\n",
              "      }\n",
              "    </script>\n",
              "  </div>\n",
              "\n",
              "\n",
              "<div id=\"df-3980e898-8fea-40e3-80a4-6d0a9b952e60\">\n",
              "  <button class=\"colab-df-quickchart\" onclick=\"quickchart('df-3980e898-8fea-40e3-80a4-6d0a9b952e60')\"\n",
              "            title=\"Suggest charts\"\n",
              "            style=\"display:none;\">\n",
              "\n",
              "<svg xmlns=\"http://www.w3.org/2000/svg\" height=\"24px\"viewBox=\"0 0 24 24\"\n",
              "     width=\"24px\">\n",
              "    <g>\n",
              "        <path d=\"M19 3H5c-1.1 0-2 .9-2 2v14c0 1.1.9 2 2 2h14c1.1 0 2-.9 2-2V5c0-1.1-.9-2-2-2zM9 17H7v-7h2v7zm4 0h-2V7h2v10zm4 0h-2v-4h2v4z\"/>\n",
              "    </g>\n",
              "</svg>\n",
              "  </button>\n",
              "\n",
              "<style>\n",
              "  .colab-df-quickchart {\n",
              "      --bg-color: #E8F0FE;\n",
              "      --fill-color: #1967D2;\n",
              "      --hover-bg-color: #E2EBFA;\n",
              "      --hover-fill-color: #174EA6;\n",
              "      --disabled-fill-color: #AAA;\n",
              "      --disabled-bg-color: #DDD;\n",
              "  }\n",
              "\n",
              "  [theme=dark] .colab-df-quickchart {\n",
              "      --bg-color: #3B4455;\n",
              "      --fill-color: #D2E3FC;\n",
              "      --hover-bg-color: #434B5C;\n",
              "      --hover-fill-color: #FFFFFF;\n",
              "      --disabled-bg-color: #3B4455;\n",
              "      --disabled-fill-color: #666;\n",
              "  }\n",
              "\n",
              "  .colab-df-quickchart {\n",
              "    background-color: var(--bg-color);\n",
              "    border: none;\n",
              "    border-radius: 50%;\n",
              "    cursor: pointer;\n",
              "    display: none;\n",
              "    fill: var(--fill-color);\n",
              "    height: 32px;\n",
              "    padding: 0;\n",
              "    width: 32px;\n",
              "  }\n",
              "\n",
              "  .colab-df-quickchart:hover {\n",
              "    background-color: var(--hover-bg-color);\n",
              "    box-shadow: 0 1px 2px rgba(60, 64, 67, 0.3), 0 1px 3px 1px rgba(60, 64, 67, 0.15);\n",
              "    fill: var(--button-hover-fill-color);\n",
              "  }\n",
              "\n",
              "  .colab-df-quickchart-complete:disabled,\n",
              "  .colab-df-quickchart-complete:disabled:hover {\n",
              "    background-color: var(--disabled-bg-color);\n",
              "    fill: var(--disabled-fill-color);\n",
              "    box-shadow: none;\n",
              "  }\n",
              "\n",
              "  .colab-df-spinner {\n",
              "    border: 2px solid var(--fill-color);\n",
              "    border-color: transparent;\n",
              "    border-bottom-color: var(--fill-color);\n",
              "    animation:\n",
              "      spin 1s steps(1) infinite;\n",
              "  }\n",
              "\n",
              "  @keyframes spin {\n",
              "    0% {\n",
              "      border-color: transparent;\n",
              "      border-bottom-color: var(--fill-color);\n",
              "      border-left-color: var(--fill-color);\n",
              "    }\n",
              "    20% {\n",
              "      border-color: transparent;\n",
              "      border-left-color: var(--fill-color);\n",
              "      border-top-color: var(--fill-color);\n",
              "    }\n",
              "    30% {\n",
              "      border-color: transparent;\n",
              "      border-left-color: var(--fill-color);\n",
              "      border-top-color: var(--fill-color);\n",
              "      border-right-color: var(--fill-color);\n",
              "    }\n",
              "    40% {\n",
              "      border-color: transparent;\n",
              "      border-right-color: var(--fill-color);\n",
              "      border-top-color: var(--fill-color);\n",
              "    }\n",
              "    60% {\n",
              "      border-color: transparent;\n",
              "      border-right-color: var(--fill-color);\n",
              "    }\n",
              "    80% {\n",
              "      border-color: transparent;\n",
              "      border-right-color: var(--fill-color);\n",
              "      border-bottom-color: var(--fill-color);\n",
              "    }\n",
              "    90% {\n",
              "      border-color: transparent;\n",
              "      border-bottom-color: var(--fill-color);\n",
              "    }\n",
              "  }\n",
              "</style>\n",
              "\n",
              "  <script>\n",
              "    async function quickchart(key) {\n",
              "      const quickchartButtonEl =\n",
              "        document.querySelector('#' + key + ' button');\n",
              "      quickchartButtonEl.disabled = true;  // To prevent multiple clicks.\n",
              "      quickchartButtonEl.classList.add('colab-df-spinner');\n",
              "      try {\n",
              "        const charts = await google.colab.kernel.invokeFunction(\n",
              "            'suggestCharts', [key], {});\n",
              "      } catch (error) {\n",
              "        console.error('Error during call to suggestCharts:', error);\n",
              "      }\n",
              "      quickchartButtonEl.classList.remove('colab-df-spinner');\n",
              "      quickchartButtonEl.classList.add('colab-df-quickchart-complete');\n",
              "    }\n",
              "    (() => {\n",
              "      let quickchartButtonEl =\n",
              "        document.querySelector('#df-3980e898-8fea-40e3-80a4-6d0a9b952e60 button');\n",
              "      quickchartButtonEl.style.display =\n",
              "        google.colab.kernel.accessAllowed ? 'block' : 'none';\n",
              "    })();\n",
              "  </script>\n",
              "</div>\n",
              "\n",
              "    </div>\n",
              "  </div>\n"
            ],
            "application/vnd.google.colaboratory.intrinsic+json": {
              "type": "dataframe",
              "variable_name": "model_loss",
              "summary": "{\n  \"name\": \"model_loss\",\n  \"rows\": 10,\n  \"fields\": [\n    {\n      \"column\": \"Recall\",\n      \"properties\": {\n        \"dtype\": \"number\",\n        \"std\": 0.02887702828914889,\n        \"min\": 0.8674033284187317,\n        \"max\": 0.9596197605133057,\n        \"num_unique_values\": 9,\n        \"samples\": [\n          0.9596197605133057,\n          0.9280955195426941,\n          0.9580760598182678\n        ],\n        \"semantic_type\": \"\",\n        \"description\": \"\"\n      }\n    },\n    {\n      \"column\": \"loss\",\n      \"properties\": {\n        \"dtype\": \"number\",\n        \"std\": 0.058659868833806396,\n        \"min\": 0.12992456555366516,\n        \"max\": 0.3184700310230255,\n        \"num_unique_values\": 10,\n        \"samples\": [\n          0.12992456555366516,\n          0.20060141384601593,\n          0.13502137362957\n        ],\n        \"semantic_type\": \"\",\n        \"description\": \"\"\n      }\n    },\n    {\n      \"column\": \"val_Recall\",\n      \"properties\": {\n        \"dtype\": \"number\",\n        \"std\": 0.026831459934936523,\n        \"min\": 0.7865496873855591,\n        \"max\": 0.8581871390342712,\n        \"num_unique_values\": 9,\n        \"samples\": [\n          0.8128654956817627,\n          0.8581871390342712,\n          0.8347952961921692\n        ],\n        \"semantic_type\": \"\",\n        \"description\": \"\"\n      }\n    },\n    {\n      \"column\": \"val_loss\",\n      \"properties\": {\n        \"dtype\": \"number\",\n        \"std\": 0.019407803644035385,\n        \"min\": 0.13540062308311462,\n        \"max\": 0.20485050976276398,\n        \"num_unique_values\": 10,\n        \"samples\": [\n          0.19105695188045502,\n          0.18340176343917847,\n          0.19737686216831207\n        ],\n        \"semantic_type\": \"\",\n        \"description\": \"\"\n      }\n    }\n  ]\n}"
            }
          },
          "metadata": {},
          "execution_count": 50
        }
      ],
      "source": [
        "model_loss = pd.DataFrame(model.history.history)\n",
        "model_loss.head()"
      ]
    },
    {
      "cell_type": "code",
      "execution_count": 51,
      "metadata": {
        "id": "BDVnpeScMP3Z",
        "colab": {
          "base_uri": "https://localhost:8080/",
          "height": 452
        },
        "outputId": "95d59bd8-18ed-48d0-dd5e-666948fc310f"
      },
      "outputs": [
        {
          "output_type": "execute_result",
          "data": {
            "text/plain": [
              "<Axes: >"
            ]
          },
          "metadata": {},
          "execution_count": 51
        },
        {
          "output_type": "display_data",
          "data": {
            "text/plain": [
              "<Figure size 640x480 with 1 Axes>"
            ],
            "image/png": "[encoded data removed]"
          },
          "metadata": {}
        }
      ],
      "source": [
        "model_loss.plot()"
      ]
    },
    {
      "cell_type": "code",
      "execution_count": 54,
      "metadata": {
        "id": "jfo1PLy9FW32",
        "colab": {
          "base_uri": "https://localhost:8080/"
        },
        "outputId": "449c483a-458d-4f2f-893a-4096736031c7"
      },
      "outputs": [
        {
          "output_type": "stream",
          "name": "stdout",
          "text": [
            "\u001b[1m761/761\u001b[0m \u001b[32m━━━━━━━━━━━━━━━━━━━━\u001b[0m\u001b[37m\u001b[0m \u001b[1m39s\u001b[0m 51ms/step - Recall: 0.7982 - loss: 0.1814\n"
          ]
        },
        {
          "output_type": "execute_result",
          "data": {
            "text/plain": [
              "[0.17615896463394165, 0.7931286692619324]"
            ]
          },
          "metadata": {},
          "execution_count": 54
        }
      ],
      "source": [
        "model.evaluate(X_test_pad, y_test)"
      ]
    },
    {
      "cell_type": "code",
      "execution_count": 55,
      "metadata": {
        "id": "VW9rUaYgMP3a",
        "colab": {
          "base_uri": "https://localhost:8080/"
        },
        "outputId": "5155fcfe-8d5b-4b3e-ce9b-6446ba31a26d"
      },
      "outputs": [
        {
          "output_type": "stream",
          "name": "stdout",
          "text": [
            "\u001b[1m6849/6849\u001b[0m \u001b[32m━━━━━━━━━━━━━━━━━━━━\u001b[0m\u001b[37m\u001b[0m \u001b[1m153s\u001b[0m 22ms/step - Recall: 0.9688 - loss: 0.1052\n"
          ]
        },
        {
          "output_type": "execute_result",
          "data": {
            "text/plain": [
              "[0.10423950850963593, 0.9701007604598999]"
            ]
          },
          "metadata": {},
          "execution_count": 55
        }
      ],
      "source": [
        "model.evaluate(X_train_pad, y_train)"
      ]
    },
    {
      "cell_type": "code",
      "source": [
        "from sklearn.metrics import confusion_matrix, classification_report, accuracy_score, f1_score, roc_auc_score\n",
        "\n",
        "y_pred = model.predict(X_test_pad) >= 0.5\n",
        "\n",
        "print(confusion_matrix(y_test, y_pred))\n",
        "print(\"-------------------------------------------------------\")\n",
        "print(classification_report(y_test, y_pred))"
      ],
      "metadata": {
        "id": "n7e4Ly8Qh4_g",
        "colab": {
          "base_uri": "https://localhost:8080/"
        },
        "outputId": "2ff36bfd-b4f6-4165-a4fc-143383d54379"
      },
      "execution_count": 56,
      "outputs": [
        {
          "output_type": "stream",
          "name": "stdout",
          "text": [
            "\u001b[1m761/761\u001b[0m \u001b[32m━━━━━━━━━━━━━━━━━━━━\u001b[0m\u001b[37m\u001b[0m \u001b[1m17s\u001b[0m 22ms/step\n",
            "[[21703  1279]\n",
            " [  283  1085]]\n",
            "-------------------------------------------------------\n",
            "              precision    recall  f1-score   support\n",
            "\n",
            "           0       0.99      0.94      0.97     22982\n",
            "           1       0.46      0.79      0.58      1368\n",
            "\n",
            "    accuracy                           0.94     24350\n",
            "   macro avg       0.72      0.87      0.77     24350\n",
            "weighted avg       0.96      0.94      0.94     24350\n",
            "\n"
          ]
        }
      ]
    },
    {
      "cell_type": "code",
      "execution_count": 57,
      "metadata": {
        "id": "lh2CIUcJy9dt",
        "colab": {
          "base_uri": "https://localhost:8080/"
        },
        "outputId": "e44439f0-f7ac-4bd1-d5f5-1ae12bf966b7"
      },
      "outputs": [
        {
          "output_type": "stream",
          "name": "stdout",
          "text": [
            "\u001b[1m6849/6849\u001b[0m \u001b[32m━━━━━━━━━━━━━━━━━━━━\u001b[0m\u001b[37m\u001b[0m \u001b[1m155s\u001b[0m 23ms/step\n",
            "[[198616   8223]\n",
            " [   368  11940]]\n",
            "-------------------------------------------------------\n",
            "              precision    recall  f1-score   support\n",
            "\n",
            "           0       1.00      0.96      0.98    206839\n",
            "           1       0.59      0.97      0.74     12308\n",
            "\n",
            "    accuracy                           0.96    219147\n",
            "   macro avg       0.80      0.97      0.86    219147\n",
            "weighted avg       0.98      0.96      0.97    219147\n",
            "\n"
          ]
        }
      ],
      "source": [
        "y_train_pred = model.predict(X_train_pad) >= 0.5\n",
        "\n",
        "print(confusion_matrix(y_train, y_train_pred))\n",
        "print(\"-------------------------------------------------------\")\n",
        "print(classification_report(y_train, y_train_pred))"
      ]
    },
    {
      "cell_type": "code",
      "execution_count": 58,
      "metadata": {
        "id": "kF0ks_UphsVL",
        "colab": {
          "base_uri": "https://localhost:8080/",
          "height": 489
        },
        "outputId": "7b5f55fb-037f-4853-9ef3-acda977008d7"
      },
      "outputs": [
        {
          "output_type": "stream",
          "name": "stdout",
          "text": [
            "\u001b[1m761/761\u001b[0m \u001b[32m━━━━━━━━━━━━━━━━━━━━\u001b[0m\u001b[37m\u001b[0m \u001b[1m17s\u001b[0m 22ms/step\n"
          ]
        },
        {
          "output_type": "display_data",
          "data": {
            "text/plain": [
              "<Figure size 640x480 with 1 Axes>"
            ],
            "image/png": "[encoded data removed]"
          },
          "metadata": {}
        }
      ],
      "source": [
        "from sklearn.metrics import precision_recall_curve, average_precision_score\n",
        "import matplotlib.pyplot as plt\n",
        "\n",
        "y_pred_proba = model.predict(X_test_pad)\n",
        "precision, recall, thresholds = precision_recall_curve(y_test, y_pred_proba)\n",
        "plt.plot([1,0],[0,1],'k--')\n",
        "plt.plot(recall, precision)\n",
        "plt.xlabel('recall')\n",
        "plt.ylabel('precision')\n",
        "plt.title('precision recall curve')\n",
        "plt.show()"
      ]
    },
    {
      "cell_type": "code",
      "execution_count": 59,
      "metadata": {
        "id": "PngCc_Ofk3ek",
        "colab": {
          "base_uri": "https://localhost:8080/"
        },
        "outputId": "3fcda010-7402-492e-cecb-bbd00072e302"
      },
      "outputs": [
        {
          "output_type": "execute_result",
          "data": {
            "text/plain": [
              "0.6723385287061139"
            ]
          },
          "metadata": {},
          "execution_count": 59
        }
      ],
      "source": [
        "average_precision_score(y_test, y_pred_proba)"
      ]
    },
    {
      "cell_type": "markdown",
      "metadata": {
        "id": "b0fcHGnY0aH9"
      },
      "source": [
        "## Model Saving"
      ]
    },
    {
      "cell_type": "code",
      "execution_count": 60,
      "metadata": {
        "id": "Io2S2n_30UAx"
      },
      "outputs": [],
      "source": [
        "#model.save('review_hepsiburada.h5')"
      ]
    },
    {
      "cell_type": "markdown",
      "metadata": {
        "id": "RvHJTK3N1M8I"
      },
      "source": [
        "##Loading Model"
      ]
    },
    {
      "cell_type": "code",
      "execution_count": 61,
      "metadata": {
        "id": "6fF_Moci1Rl3"
      },
      "outputs": [],
      "source": [
        "#from tensorflow.keras.models import load_model\n",
        "#model_review = load_model('/content/drive/MyDrive/review_hepsiburada.h5')"
      ]
    },
    {
      "cell_type": "markdown",
      "metadata": {
        "id": "U3Z5WQt0MP3e"
      },
      "source": [
        "## Predicton"
      ]
    },
    {
      "cell_type": "code",
      "execution_count": 62,
      "metadata": {
        "id": "XXl_3XopMP3e"
      },
      "outputs": [],
      "source": [
        "review1 = \"çok beğendim herkese tavsiye ederim\"\n",
        "review2 = \"süper ürün\"\n",
        "review3 = \"büyük bir hayal kırıklığı yaşadım bu ürünü bu markaya yakıştıramadım\"\n",
        "review4 = \"kelimelerle tarif edilemez\"\n",
        "review5 = \"tasarımı harika ancak kargo çok geç geldi ve ürün açılmıştı hayal kırıklığı gerçekten\"\n",
        "review6 = \"hiç resimde gösterildiği gibi değil\"\n",
        "review7 = \"kötü yorumlar gözümü korkutmuştu ancak hiçbir sorun yaşamadım.\"\n",
        "review8 = \"hiç bu kadar kötü bir satıcıya denk gelmemiştim ürün siparişimi iptal ediyorum\"\n",
        "review9 = \"tam bir fiyat performans ürünü\"\n",
        "review10 = \"beklediğim gibi çıkmadı\"\n",
        "review11 = \"on numara beş yıldız\"\n",
        "review12 = \"üründe sıkıntı var\"\n",
        "review13 = \"televizyonun görüntü kalitesi çok kötü, dün akşam evde arkadaşlarla toplandık. yedik, içtik, sohbet ettik. Sonra televizyonda Türkiye - İngiltere maçını seyrettik.\"\n",
        "review14 = '1 gün gibi kısa bir sürede elime geçti. Ve bu fıyata süper bir ürün tavsiye ederim. Lakin eli büyük olan kişiler daha büyük modelini tercih edebilirler ortaboy ürün.Teşekkürler '\n",
        "review15 = 'telefon kesinlikle bu parayı hak etmiyor. yeni hiç bir özelliği yok. ancak küçük ekran sevenler için iyi bir telefon'\n",
        "review16 = 'müthiş bir telefon ama bu parayı hak etmiyor'\n",
        "reviews = [review1, review2, review3, review4, review5, review6, review7, review8, review9, review10, review11, review12, review13, review14, review15, review16]"
      ]
    },
    {
      "cell_type": "code",
      "execution_count": 63,
      "metadata": {
        "id": "XhxQQSEqMP3e"
      },
      "outputs": [],
      "source": [
        "tokens = tokenizer.texts_to_sequences(reviews)"
      ]
    },
    {
      "cell_type": "code",
      "source": [
        "tokens"
      ],
      "metadata": {
        "id": "GDePbQkGzpah",
        "colab": {
          "base_uri": "https://localhost:8080/"
        },
        "outputId": "5bf893e0-d068-4cec-bd23-c46102059034"
      },
      "execution_count": 64,
      "outputs": [
        {
          "output_type": "execute_result",
          "data": {
            "text/plain": [
              "[[1, 146, 70, 9, 10],\n",
              " [73, 4],\n",
              " [103, 2, 1031, 2290, 1459, 5, 19, 5, 1784, 11674],\n",
              " [4235, 11684],\n",
              " [556, 61, 82, 26, 1, 445, 33, 3, 4, 1031, 2290, 37],\n",
              " [48, 1103, 6142, 20, 49],\n",
              " [177, 746, 7522, 82, 261, 105, 326],\n",
              " [48, 5, 30, 177, 2, 1742, 1235, 4, 1755, 4934, 84],\n",
              " [74, 2, 28, 111, 19],\n",
              " [636, 20, 859],\n",
              " [392, 178, 1007, 513],\n",
              " [453, 147, 35],\n",
              " [6953, 317, 62, 1, 177, 376, 475, 286, 6350, 1380, 41, 9533, 771],\n",
              " [38,\n",
              "  40,\n",
              "  20,\n",
              "  108,\n",
              "  2,\n",
              "  161,\n",
              "  29,\n",
              "  149,\n",
              "  3,\n",
              "  5,\n",
              "  2891,\n",
              "  73,\n",
              "  2,\n",
              "  4,\n",
              "  9,\n",
              "  10,\n",
              "  1191,\n",
              "  2394,\n",
              "  103,\n",
              "  113,\n",
              "  2024,\n",
              "  11,\n",
              "  103,\n",
              "  1155,\n",
              "  176,\n",
              "  12442,\n",
              "  4,\n",
              "  16],\n",
              " [44,\n",
              "  43,\n",
              "  5,\n",
              "  1242,\n",
              "  490,\n",
              "  733,\n",
              "  136,\n",
              "  48,\n",
              "  2,\n",
              "  239,\n",
              "  21,\n",
              "  82,\n",
              "  116,\n",
              "  166,\n",
              "  1620,\n",
              "  8,\n",
              "  6,\n",
              "  2,\n",
              "  44],\n",
              " [585, 2, 44, 12, 5, 1242, 490, 733]]"
            ]
          },
          "metadata": {},
          "execution_count": 64
        }
      ]
    },
    {
      "cell_type": "code",
      "execution_count": 65,
      "metadata": {
        "id": "NNbh_gkTMP3e",
        "colab": {
          "base_uri": "https://localhost:8080/"
        },
        "outputId": "909ed1f7-035a-4f96-a214-d5f6f76ad315"
      },
      "outputs": [
        {
          "output_type": "execute_result",
          "data": {
            "text/plain": [
              "(16, 56)"
            ]
          },
          "metadata": {},
          "execution_count": 65
        }
      ],
      "source": [
        "tokens_pad = pad_sequences(tokens, maxlen=max_tokens)\n",
        "tokens_pad.shape"
      ]
    },
    {
      "cell_type": "code",
      "source": [
        "prob = model.predict(tokens_pad)\n",
        "prob"
      ],
      "metadata": {
        "id": "r01hpC1j8zrx",
        "colab": {
          "base_uri": "https://localhost:8080/"
        },
        "outputId": "8124e532-06e3-413a-cafb-b6c9a936022b"
      },
      "execution_count": 66,
      "outputs": [
        {
          "output_type": "stream",
          "name": "stdout",
          "text": [
            "\u001b[1m1/1\u001b[0m \u001b[32m━━━━━━━━━━━━━━━━━━━━\u001b[0m\u001b[37m\u001b[0m \u001b[1m0s\u001b[0m 130ms/step\n"
          ]
        },
        {
          "output_type": "execute_result",
          "data": {
            "text/plain": [
              "array([[0.00635012],\n",
              "       [0.02056732],\n",
              "       [0.99582875],\n",
              "       [0.02020362],\n",
              "       [0.9549157 ],\n",
              "       [0.98605084],\n",
              "       [0.69717455],\n",
              "       [0.83770186],\n",
              "       [0.03116789],\n",
              "       [0.953314  ],\n",
              "       [0.00696878],\n",
              "       [0.7468319 ],\n",
              "       [0.92577255],\n",
              "       [0.02225654],\n",
              "       [0.99778676],\n",
              "       [0.9612316 ]], dtype=float32)"
            ]
          },
          "metadata": {},
          "execution_count": 66
        }
      ]
    },
    {
      "cell_type": "code",
      "execution_count": 67,
      "metadata": {
        "id": "RTGxn4qwMP3f",
        "colab": {
          "base_uri": "https://localhost:8080/"
        },
        "outputId": "d36a4fad-6ef1-40d2-d236-3940e38e767b"
      },
      "outputs": [
        {
          "output_type": "stream",
          "name": "stdout",
          "text": [
            "\u001b[1m1/1\u001b[0m \u001b[32m━━━━━━━━━━━━━━━━━━━━\u001b[0m\u001b[37m\u001b[0m \u001b[1m0s\u001b[0m 37ms/step\n"
          ]
        },
        {
          "output_type": "execute_result",
          "data": {
            "text/plain": [
              "array([[0],\n",
              "       [0],\n",
              "       [1],\n",
              "       [0],\n",
              "       [1],\n",
              "       [1],\n",
              "       [1],\n",
              "       [1],\n",
              "       [0],\n",
              "       [1],\n",
              "       [0],\n",
              "       [1],\n",
              "       [1],\n",
              "       [0],\n",
              "       [1],\n",
              "       [1]])"
            ]
          },
          "metadata": {},
          "execution_count": 67
        }
      ],
      "source": [
        "pred = (model.predict(tokens_pad) >0.5).astype(\"int\")\n",
        "pred"
      ]
    },
    {
      "cell_type": "code",
      "execution_count": 68,
      "metadata": {
        "id": "MSL1R81HMP3f",
        "colab": {
          "base_uri": "https://localhost:8080/",
          "height": 586
        },
        "outputId": "747afd79-40c3-4cef-8c11-e1d6738952a9"
      },
      "outputs": [
        {
          "output_type": "execute_result",
          "data": {
            "text/plain": [
              "                                                                                                                                                                               Review  \\\n",
              "0                                                                                                                                                 çok beğendim herkese tavsiye ederim   \n",
              "1                                                                                                                                                                          süper ürün   \n",
              "2                                                                                                                büyük bir hayal kırıklığı yaşadım bu ürünü bu markaya yakıştıramadım   \n",
              "3                                                                                                                                                          kelimelerle tarif edilemez   \n",
              "4                                                                                               tasarımı harika ancak kargo çok geç geldi ve ürün açılmıştı hayal kırıklığı gerçekten   \n",
              "5                                                                                                                                                 hiç resimde gösterildiği gibi değil   \n",
              "6                                                                                                                      kötü yorumlar gözümü korkutmuştu ancak hiçbir sorun yaşamadım.   \n",
              "7                                                                                                      hiç bu kadar kötü bir satıcıya denk gelmemiştim ürün siparişimi iptal ediyorum   \n",
              "8                                                                                                                                                      tam bir fiyat performans ürünü   \n",
              "9                                                                                                                                                             beklediğim gibi çıkmadı   \n",
              "10                                                                                                                                                               on numara beş yıldız   \n",
              "11                                                                                                                                                                 üründe sıkıntı var   \n",
              "12                televizyonun görüntü kalitesi çok kötü, dün akşam evde arkadaşlarla toplandık. yedik, içtik, sohbet ettik. Sonra televizyonda Türkiye - İngiltere maçını seyrettik.   \n",
              "13  1 gün gibi kısa bir sürede elime geçti. Ve bu fıyata süper bir ürün tavsiye ederim. Lakin eli büyük olan kişiler daha büyük modelini tercih edebilirler ortaboy ürün.Teşekkürler    \n",
              "14                                                               telefon kesinlikle bu parayı hak etmiyor. yeni hiç bir özelliği yok. ancak küçük ekran sevenler için iyi bir telefon   \n",
              "15                                                                                                                                       müthiş bir telefon ama bu parayı hak etmiyor   \n",
              "\n",
              "        prob  classes  \n",
              "0   0.006350        0  \n",
              "1   0.020567        0  \n",
              "2   0.995829        1  \n",
              "3   0.020204        0  \n",
              "4   0.954916        1  \n",
              "5   0.986051        1  \n",
              "6   0.697175        1  \n",
              "7   0.837702        1  \n",
              "8   0.031168        0  \n",
              "9   0.953314        1  \n",
              "10  0.006969        0  \n",
              "11  0.746832        1  \n",
              "12  0.925773        1  \n",
              "13  0.022257        0  \n",
              "14  0.997787        1  \n",
              "15  0.961232        1  "
            ],
            "text/html": [
              "\n",
              "  <div id=\"df-b211c407-9519-49d0-b058-f2c0f04b96cd\" class=\"colab-df-container\">\n",
              "    <div>\n",
              "<style scoped>\n",
              "    .dataframe tbody tr th:only-of-type {\n",
              "        vertical-align: middle;\n",
              "    }\n",
              "\n",
              "    .dataframe tbody tr th {\n",
              "        vertical-align: top;\n",
              "    }\n",
              "\n",
              "    .dataframe thead th {\n",
              "        text-align: right;\n",
              "    }\n",
              "</style>\n",
              "<table border=\"1\" class=\"dataframe\">\n",
              "  <thead>\n",
              "    <tr style=\"text-align: right;\">\n",
              "      <th></th>\n",
              "      <th>Review</th>\n",
              "      <th>prob</th>\n",
              "      <th>classes</th>\n",
              "    </tr>\n",
              "  </thead>\n",
              "  <tbody>\n",
              "    <tr>\n",
              "      <th>0</th>\n",
              "      <td>çok beğendim herkese tavsiye ederim</td>\n",
              "      <td>0.006350</td>\n",
              "      <td>0</td>\n",
              "    </tr>\n",
              "    <tr>\n",
              "      <th>1</th>\n",
              "      <td>süper ürün</td>\n",
              "      <td>0.020567</td>\n",
              "      <td>0</td>\n",
              "    </tr>\n",
              "    <tr>\n",
              "      <th>2</th>\n",
              "      <td>büyük bir hayal kırıklığı yaşadım bu ürünü bu markaya yakıştıramadım</td>\n",
              "      <td>0.995829</td>\n",
              "      <td>1</td>\n",
              "    </tr>\n",
              "    <tr>\n",
              "      <th>3</th>\n",
              "      <td>kelimelerle tarif edilemez</td>\n",
              "      <td>0.020204</td>\n",
              "      <td>0</td>\n",
              "    </tr>\n",
              "    <tr>\n",
              "      <th>4</th>\n",
              "      <td>tasarımı harika ancak kargo çok geç geldi ve ürün açılmıştı hayal kırıklığı gerçekten</td>\n",
              "      <td>0.954916</td>\n",
              "      <td>1</td>\n",
              "    </tr>\n",
              "    <tr>\n",
              "      <th>5</th>\n",
              "      <td>hiç resimde gösterildiği gibi değil</td>\n",
              "      <td>0.986051</td>\n",
              "      <td>1</td>\n",
              "    </tr>\n",
              "    <tr>\n",
              "      <th>6</th>\n",
              "      <td>kötü yorumlar gözümü korkutmuştu ancak hiçbir sorun yaşamadım.</td>\n",
              "      <td>0.697175</td>\n",
              "      <td>1</td>\n",
              "    </tr>\n",
              "    <tr>\n",
              "      <th>7</th>\n",
              "      <td>hiç bu kadar kötü bir satıcıya denk gelmemiştim ürün siparişimi iptal ediyorum</td>\n",
              "      <td>0.837702</td>\n",
              "      <td>1</td>\n",
              "    </tr>\n",
              "    <tr>\n",
              "      <th>8</th>\n",
              "      <td>tam bir fiyat performans ürünü</td>\n",
              "      <td>0.031168</td>\n",
              "      <td>0</td>\n",
              "    </tr>\n",
              "    <tr>\n",
              "      <th>9</th>\n",
              "      <td>beklediğim gibi çıkmadı</td>\n",
              "      <td>0.953314</td>\n",
              "      <td>1</td>\n",
              "    </tr>\n",
              "    <tr>\n",
              "      <th>10</th>\n",
              "      <td>on numara beş yıldız</td>\n",
              "      <td>0.006969</td>\n",
              "      <td>0</td>\n",
              "    </tr>\n",
              "    <tr>\n",
              "      <th>11</th>\n",
              "      <td>üründe sıkıntı var</td>\n",
              "      <td>0.746832</td>\n",
              "      <td>1</td>\n",
              "    </tr>\n",
              "    <tr>\n",
              "      <th>12</th>\n",
              "      <td>televizyonun görüntü kalitesi çok kötü, dün akşam evde arkadaşlarla toplandık. yedik, içtik, sohbet ettik. Sonra televizyonda Türkiye - İngiltere maçını seyrettik.</td>\n",
              "      <td>0.925773</td>\n",
              "      <td>1</td>\n",
              "    </tr>\n",
              "    <tr>\n",
              "      <th>13</th>\n",
              "      <td>1 gün gibi kısa bir sürede elime geçti. Ve bu fıyata süper bir ürün tavsiye ederim. Lakin eli büyük olan kişiler daha büyük modelini tercih edebilirler ortaboy ürün.Teşekkürler</td>\n",
              "      <td>0.022257</td>\n",
              "      <td>0</td>\n",
              "    </tr>\n",
              "    <tr>\n",
              "      <th>14</th>\n",
              "      <td>telefon kesinlikle bu parayı hak etmiyor. yeni hiç bir özelliği yok. ancak küçük ekran sevenler için iyi bir telefon</td>\n",
              "      <td>0.997787</td>\n",
              "      <td>1</td>\n",
              "    </tr>\n",
              "    <tr>\n",
              "      <th>15</th>\n",
              "      <td>müthiş bir telefon ama bu parayı hak etmiyor</td>\n",
              "      <td>0.961232</td>\n",
              "      <td>1</td>\n",
              "    </tr>\n",
              "  </tbody>\n",
              "</table>\n",
              "</div>\n",
              "    <div class=\"colab-df-buttons\">\n",
              "\n",
              "  <div class=\"colab-df-container\">\n",
              "    <button class=\"colab-df-convert\" onclick=\"convertToInteractive('df-b211c407-9519-49d0-b058-f2c0f04b96cd')\"\n",
              "            title=\"Convert this dataframe to an interactive table.\"\n",
              "            style=\"display:none;\">\n",
              "\n",
              "  <svg xmlns=\"http://www.w3.org/2000/svg\" height=\"24px\" viewBox=\"0 -960 960 960\">\n",
              "    <path d=\"M120-120v-720h720v720H120Zm60-500h600v-160H180v160Zm220 220h160v-160H400v160Zm0 220h160v-160H400v160ZM180-400h160v-160H180v160Zm440 0h160v-160H620v160ZM180-180h160v-160H180v160Zm440 0h160v-160H620v160Z\"/>\n",
              "  </svg>\n",
              "    </button>\n",
              "\n",
              "  <style>\n",
              "    .colab-df-container {\n",
              "      display:flex;\n",
              "      gap: 12px;\n",
              "    }\n",
              "\n",
              "    .colab-df-convert {\n",
              "      background-color: #E8F0FE;\n",
              "      border: none;\n",
              "      border-radius: 50%;\n",
              "      cursor: pointer;\n",
              "      display: none;\n",
              "      fill: #1967D2;\n",
              "      height: 32px;\n",
              "      padding: 0 0 0 0;\n",
              "      width: 32px;\n",
              "    }\n",
              "\n",
              "    .colab-df-convert:hover {\n",
              "      background-color: #E2EBFA;\n",
              "      box-shadow: 0px 1px 2px rgba(60, 64, 67, 0.3), 0px 1px 3px 1px rgba(60, 64, 67, 0.15);\n",
              "      fill: #174EA6;\n",
              "    }\n",
              "\n",
              "    .colab-df-buttons div {\n",
              "      margin-bottom: 4px;\n",
              "    }\n",
              "\n",
              "    [theme=dark] .colab-df-convert {\n",
              "      background-color: #3B4455;\n",
              "      fill: #D2E3FC;\n",
              "    }\n",
              "\n",
              "    [theme=dark] .colab-df-convert:hover {\n",
              "      background-color: #434B5C;\n",
              "      box-shadow: 0px 1px 3px 1px rgba(0, 0, 0, 0.15);\n",
              "      filter: drop-shadow(0px 1px 2px rgba(0, 0, 0, 0.3));\n",
              "      fill: #FFFFFF;\n",
              "    }\n",
              "  </style>\n",
              "\n",
              "    <script>\n",
              "      const buttonEl =\n",
              "        document.querySelector('#df-b211c407-9519-49d0-b058-f2c0f04b96cd button.colab-df-convert');\n",
              "      buttonEl.style.display =\n",
              "        google.colab.kernel.accessAllowed ? 'block' : 'none';\n",
              "\n",
              "      async function convertToInteractive(key) {\n",
              "        const element = document.querySelector('#df-b211c407-9519-49d0-b058-f2c0f04b96cd');\n",
              "        const dataTable =\n",
              "          await google.colab.kernel.invokeFunction('convertToInteractive',\n",
              "                                                    [key], {});\n",
              "        if (!dataTable) return;\n",
              "\n",
              "        const docLinkHtml = 'Like what you see? Visit the ' +\n",
              "          '<a target=\"_blank\" href=https://colab.research.google.com/notebooks/data_table.ipynb>data table notebook</a>'\n",
              "          + ' to learn more about interactive tables.';\n",
              "        element.innerHTML = '';\n",
              "        dataTable['output_type'] = 'display_data';\n",
              "        await google.colab.output.renderOutput(dataTable, element);\n",
              "        const docLink = document.createElement('div');\n",
              "        docLink.innerHTML = docLinkHtml;\n",
              "        element.appendChild(docLink);\n",
              "      }\n",
              "    </script>\n",
              "  </div>\n",
              "\n",
              "\n",
              "<div id=\"df-1d02c9fb-9934-42c5-8708-6b32128b91e5\">\n",
              "  <button class=\"colab-df-quickchart\" onclick=\"quickchart('df-1d02c9fb-9934-42c5-8708-6b32128b91e5')\"\n",
              "            title=\"Suggest charts\"\n",
              "            style=\"display:none;\">\n",
              "\n",
              "<svg xmlns=\"http://www.w3.org/2000/svg\" height=\"24px\"viewBox=\"0 0 24 24\"\n",
              "     width=\"24px\">\n",
              "    <g>\n",
              "        <path d=\"M19 3H5c-1.1 0-2 .9-2 2v14c0 1.1.9 2 2 2h14c1.1 0 2-.9 2-2V5c0-1.1-.9-2-2-2zM9 17H7v-7h2v7zm4 0h-2V7h2v10zm4 0h-2v-4h2v4z\"/>\n",
              "    </g>\n",
              "</svg>\n",
              "  </button>\n",
              "\n",
              "<style>\n",
              "  .colab-df-quickchart {\n",
              "      --bg-color: #E8F0FE;\n",
              "      --fill-color: #1967D2;\n",
              "      --hover-bg-color: #E2EBFA;\n",
              "      --hover-fill-color: #174EA6;\n",
              "      --disabled-fill-color: #AAA;\n",
              "      --disabled-bg-color: #DDD;\n",
              "  }\n",
              "\n",
              "  [theme=dark] .colab-df-quickchart {\n",
              "      --bg-color: #3B4455;\n",
              "      --fill-color: #D2E3FC;\n",
              "      --hover-bg-color: #434B5C;\n",
              "      --hover-fill-color: #FFFFFF;\n",
              "      --disabled-bg-color: #3B4455;\n",
              "      --disabled-fill-color: #666;\n",
              "  }\n",
              "\n",
              "  .colab-df-quickchart {\n",
              "    background-color: var(--bg-color);\n",
              "    border: none;\n",
              "    border-radius: 50%;\n",
              "    cursor: pointer;\n",
              "    display: none;\n",
              "    fill: var(--fill-color);\n",
              "    height: 32px;\n",
              "    padding: 0;\n",
              "    width: 32px;\n",
              "  }\n",
              "\n",
              "  .colab-df-quickchart:hover {\n",
              "    background-color: var(--hover-bg-color);\n",
              "    box-shadow: 0 1px 2px rgba(60, 64, 67, 0.3), 0 1px 3px 1px rgba(60, 64, 67, 0.15);\n",
              "    fill: var(--button-hover-fill-color);\n",
              "  }\n",
              "\n",
              "  .colab-df-quickchart-complete:disabled,\n",
              "  .colab-df-quickchart-complete:disabled:hover {\n",
              "    background-color: var(--disabled-bg-color);\n",
              "    fill: var(--disabled-fill-color);\n",
              "    box-shadow: none;\n",
              "  }\n",
              "\n",
              "  .colab-df-spinner {\n",
              "    border: 2px solid var(--fill-color);\n",
              "    border-color: transparent;\n",
              "    border-bottom-color: var(--fill-color);\n",
              "    animation:\n",
              "      spin 1s steps(1) infinite;\n",
              "  }\n",
              "\n",
              "  @keyframes spin {\n",
              "    0% {\n",
              "      border-color: transparent;\n",
              "      border-bottom-color: var(--fill-color);\n",
              "      border-left-color: var(--fill-color);\n",
              "    }\n",
              "    20% {\n",
              "      border-color: transparent;\n",
              "      border-left-color: var(--fill-color);\n",
              "      border-top-color: var(--fill-color);\n",
              "    }\n",
              "    30% {\n",
              "      border-color: transparent;\n",
              "      border-left-color: var(--fill-color);\n",
              "      border-top-color: var(--fill-color);\n",
              "      border-right-color: var(--fill-color);\n",
              "    }\n",
              "    40% {\n",
              "      border-color: transparent;\n",
              "      border-right-color: var(--fill-color);\n",
              "      border-top-color: var(--fill-color);\n",
              "    }\n",
              "    60% {\n",
              "      border-color: transparent;\n",
              "      border-right-color: var(--fill-color);\n",
              "    }\n",
              "    80% {\n",
              "      border-color: transparent;\n",
              "      border-right-color: var(--fill-color);\n",
              "      border-bottom-color: var(--fill-color);\n",
              "    }\n",
              "    90% {\n",
              "      border-color: transparent;\n",
              "      border-bottom-color: var(--fill-color);\n",
              "    }\n",
              "  }\n",
              "</style>\n",
              "\n",
              "  <script>\n",
              "    async function quickchart(key) {\n",
              "      const quickchartButtonEl =\n",
              "        document.querySelector('#' + key + ' button');\n",
              "      quickchartButtonEl.disabled = true;  // To prevent multiple clicks.\n",
              "      quickchartButtonEl.classList.add('colab-df-spinner');\n",
              "      try {\n",
              "        const charts = await google.colab.kernel.invokeFunction(\n",
              "            'suggestCharts', [key], {});\n",
              "      } catch (error) {\n",
              "        console.error('Error during call to suggestCharts:', error);\n",
              "      }\n",
              "      quickchartButtonEl.classList.remove('colab-df-spinner');\n",
              "      quickchartButtonEl.classList.add('colab-df-quickchart-complete');\n",
              "    }\n",
              "    (() => {\n",
              "      let quickchartButtonEl =\n",
              "        document.querySelector('#df-1d02c9fb-9934-42c5-8708-6b32128b91e5 button');\n",
              "      quickchartButtonEl.style.display =\n",
              "        google.colab.kernel.accessAllowed ? 'block' : 'none';\n",
              "    })();\n",
              "  </script>\n",
              "</div>\n",
              "\n",
              "    </div>\n",
              "  </div>\n"
            ],
            "application/vnd.google.colaboratory.intrinsic+json": {
              "type": "dataframe",
              "summary": "{\n  \"name\": \"pd\",\n  \"rows\": 16,\n  \"fields\": [\n    {\n      \"column\": \"Review\",\n      \"properties\": {\n        \"dtype\": \"string\",\n        \"num_unique_values\": 16,\n        \"samples\": [\n          \"\\u00e7ok be\\u011fendim herkese tavsiye ederim\",\n          \"s\\u00fcper \\u00fcr\\u00fcn\",\n          \"hi\\u00e7 resimde g\\u00f6sterildi\\u011fi gibi de\\u011fil\"\n        ],\n        \"semantic_type\": \"\",\n        \"description\": \"\"\n      }\n    },\n    {\n      \"column\": \"prob\",\n      \"properties\": {\n        \"dtype\": \"float32\",\n        \"num_unique_values\": 16,\n        \"samples\": [\n          0.006350119598209858,\n          0.02056732028722763,\n          0.9860508441925049\n        ],\n        \"semantic_type\": \"\",\n        \"description\": \"\"\n      }\n    },\n    {\n      \"column\": \"classes\",\n      \"properties\": {\n        \"dtype\": \"number\",\n        \"std\": 0,\n        \"min\": 0,\n        \"max\": 1,\n        \"num_unique_values\": 2,\n        \"samples\": [\n          1,\n          0\n        ],\n        \"semantic_type\": \"\",\n        \"description\": \"\"\n      }\n    }\n  ]\n}"
            }
          },
          "metadata": {},
          "execution_count": 68
        }
      ],
      "source": [
        "pd.set_option('display.max_colwidth', None)\n",
        "my_dict = {\"Review\":reviews, \"prob\":[i[0] for i in prob], \"classes\":[i[0] for i in pred]}\n",
        "pd.DataFrame(my_dict)"
      ]
    },
    {
      "cell_type": "code",
      "source": [
        "count=0\n",
        "for i, j in enumerate(X):\n",
        "  if \"hak etmiyor\" in j.lower() and y[i]==1:\n",
        "    count+=1\n",
        "count"
      ],
      "metadata": {
        "id": "4xX7KQuducTX",
        "colab": {
          "base_uri": "https://localhost:8080/"
        },
        "outputId": "30aa5797-1cf4-4415-be72-e35821e3a062"
      },
      "execution_count": 69,
      "outputs": [
        {
          "output_type": "execute_result",
          "data": {
            "text/plain": [
              "31"
            ]
          },
          "metadata": {},
          "execution_count": 69
        }
      ]
    },
    {
      "cell_type": "markdown",
      "source": [
        "#Tokenizer Saving"
      ],
      "metadata": {
        "id": "u3sIDXNruyB4"
      }
    },
    {
      "cell_type": "code",
      "source": [
        "# import joblib\n",
        "\n",
        "# joblib.dump(tokenizer, \"/content/drive/MyDrive/tokenizzer.joblib\")\n",
        "\n",
        "# pckle kütüphanesini de kullanarak kaydedebiliriz."
      ],
      "metadata": {
        "id": "Mc4bgEwguugZ"
      },
      "execution_count": 70,
      "outputs": []
    },
    {
      "cell_type": "markdown",
      "source": [
        "#Loading Tokenizer"
      ],
      "metadata": {
        "id": "PJFp_x4_vMBS"
      }
    },
    {
      "cell_type": "code",
      "source": [
        "#loaded_tokenizer = joblib.load(\"/content/drive/MyDrive/tokenizzer.joblib\")"
      ],
      "metadata": {
        "id": "pCGiOidXvOjg"
      },
      "execution_count": 71,
      "outputs": []
    }
  ],
  "metadata": {
    "colab": {
      "provenance": [],
      "include_colab_link": true
    },
    "kernelspec": {
      "display_name": "Python 3",
      "name": "python3"
    },
    "language_info": {
      "codemirror_mode": {
        "name": "ipython",
        "version": 3
      },
      "file_extension": ".py",
      "mimetype": "text/x-python",
      "name": "python",
      "nbconvert_exporter": "python",
      "pygments_lexer": "ipython3",
      "version": "3.7.9"
    }
  },
  "nbformat": 4,
  "nbformat_minor": 0
}