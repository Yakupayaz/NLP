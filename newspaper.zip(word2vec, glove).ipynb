{
 "cells": [
  {
   "cell_type": "markdown",
   "metadata": {
    "id": "LBZcHqq2cmBO"
   },
   "source": [
    "## Word_embedding"
   ]
  },
  {
   "cell_type": "markdown",
   "metadata": {
    "id": "WZ1ZB0TvcmBS"
   },
   "source": [
    "## Word2Vec"
   ]
  },
  {
   "cell_type": "code",
   "execution_count": 1,
   "metadata": {
    "colab": {
     "base_uri": "https://localhost:8080/"
    },
    "id": "ZIPnPhQecmBS",
    "outputId": "d87d9e3d-9ea0-4856-ea4e-3a61559bd1d6"
   },
   "outputs": [],
   "source": [
    "# pip install gensim"
   ]
  },
  {
   "cell_type": "code",
   "execution_count": 2,
   "metadata": {
    "id": "j02dbS9sc_oD"
   },
   "outputs": [],
   "source": [
    "from nltk.tokenize import sent_tokenize, word_tokenize\n",
    "import nltk\n",
    "import pandas as pd\n",
    "from gensim.models import Word2Vec"
   ]
  },
  {
   "cell_type": "code",
   "execution_count": 3,
   "metadata": {
    "colab": {
     "base_uri": "https://localhost:8080/"
    },
    "id": "MZUfRIa4c__F",
    "outputId": "b857ee42-abbe-4f56-c042-cc531863a890"
   },
   "outputs": [],
   "source": [
    "# nltk.download('punkt')\n",
    "# nltk.download('stopwords')\n",
    "# nltk.download('omw-1.4')\n",
    "# nltk.download('wordnet')"
   ]
  },
  {
   "cell_type": "code",
   "execution_count": 4,
   "metadata": {
    "colab": {
     "base_uri": "https://localhost:8080/",
     "height": 206
    },
    "id": "qYH6P2lQcmBU",
    "outputId": "751073b8-c6ad-40ee-fcd1-624dd2d39c52"
   },
   "outputs": [
    {
     "data": {
      "text/html": [
       "<div>\n",
       "<style scoped>\n",
       "    .dataframe tbody tr th:only-of-type {\n",
       "        vertical-align: middle;\n",
       "    }\n",
       "\n",
       "    .dataframe tbody tr th {\n",
       "        vertical-align: top;\n",
       "    }\n",
       "\n",
       "    .dataframe thead th {\n",
       "        text-align: right;\n",
       "    }\n",
       "</style>\n",
       "<table border=\"1\" class=\"dataframe\">\n",
       "  <thead>\n",
       "    <tr style=\"text-align: right;\">\n",
       "      <th></th>\n",
       "      <th>news</th>\n",
       "    </tr>\n",
       "  </thead>\n",
       "  <tbody>\n",
       "    <tr>\n",
       "      <th>172781</th>\n",
       "      <td>ab dışişleri bakanları ayrıca mal varlıkları d...</td>\n",
       "    </tr>\n",
       "    <tr>\n",
       "      <th>344207</th>\n",
       "      <td>ab rusya ya vize uyguluyor fakat sırbistan rus...</td>\n",
       "    </tr>\n",
       "    <tr>\n",
       "      <th>375744</th>\n",
       "      <td>temsilciler meclisi başkanı olan ryan tasarını...</td>\n",
       "    </tr>\n",
       "    <tr>\n",
       "      <th>25466</th>\n",
       "      <td>türkiye de yıl ay gün hapis cezasına çarptırıl...</td>\n",
       "    </tr>\n",
       "    <tr>\n",
       "      <th>115108</th>\n",
       "      <td>rafsancani düzenin yararını teşhis konseyi baş...</td>\n",
       "    </tr>\n",
       "  </tbody>\n",
       "</table>\n",
       "</div>"
      ],
      "text/plain": [
       "                                                     news\n",
       "172781  ab dışişleri bakanları ayrıca mal varlıkları d...\n",
       "344207  ab rusya ya vize uyguluyor fakat sırbistan rus...\n",
       "375744  temsilciler meclisi başkanı olan ryan tasarını...\n",
       "25466   türkiye de yıl ay gün hapis cezasına çarptırıl...\n",
       "115108  rafsancani düzenin yararını teşhis konseyi baş..."
      ]
     },
     "execution_count": 4,
     "metadata": {},
     "output_type": "execute_result"
    }
   ],
   "source": [
    "df = pd.read_csv(\"newspaper.zip\", names = [\"news\"])\n",
    "\n",
    "df.sample(5)\n",
    "# zipli dosyayı okumak için kullanabilirisniz"
   ]
  },
  {
   "cell_type": "code",
   "execution_count": 5,
   "metadata": {
    "colab": {
     "base_uri": "https://localhost:8080/",
     "height": 53
    },
    "id": "9N1a526NcmBW",
    "outputId": "7c80bf58-77a0-42f4-a3ea-d05987f6bd9d"
   },
   "outputs": [
    {
     "data": {
      "text/plain": [
       "'iran devlet televizyonu ülkedeki eyaletin sinde yapılan reformcuları protesto amaçlı yürüyüşlere milyonlarca kişinin katıldığını bildirdi '"
      ]
     },
     "execution_count": 5,
     "metadata": {},
     "output_type": "execute_result"
    }
   ],
   "source": [
    "df.news[0]"
   ]
  },
  {
   "cell_type": "code",
   "execution_count": 6,
   "metadata": {
    "colab": {
     "base_uri": "https://localhost:8080/"
    },
    "id": "Mtw1JU1FcmBW",
    "outputId": "ff073c03-b914-4712-d029-b250db5a8167"
   },
   "outputs": [
    {
     "data": {
      "text/plain": [
       "['iran',\n",
       " 'devlet',\n",
       " 'televizyonu',\n",
       " 'ülkedeki',\n",
       " 'eyaletin',\n",
       " 'sinde',\n",
       " 'yapılan',\n",
       " 'reformcuları',\n",
       " 'protesto',\n",
       " 'amaçlı',\n",
       " 'yürüyüşlere',\n",
       " 'milyonlarca',\n",
       " 'kişinin',\n",
       " 'katıldığını',\n",
       " 'bildirdi']"
      ]
     },
     "execution_count": 6,
     "metadata": {},
     "output_type": "execute_result"
    }
   ],
   "source": [
    "word_tokenize(df.news[0])"
   ]
  },
  {
   "cell_type": "code",
   "execution_count": 7,
   "metadata": {
    "colab": {
     "base_uri": "https://localhost:8080/"
    },
    "id": "nYblVtZ_cmBY",
    "outputId": "3b7eec62-0e36-41f4-8987-d360fcb0267a"
   },
   "outputs": [
    {
     "name": "stdout",
     "output_type": "stream",
     "text": [
      "[['iran', 'devlet', 'televizyonu', 'ülkedeki', 'eyaletin', 'sinde', 'yapılan', 'reformcuları', 'protesto', 'amaçlı', 'yürüyüşlere', 'milyonlarca', 'kişinin', 'katıldığını', 'bildirdi'], ['gösterilerde', 'fitnecilere', 'ölüm', 'münafıklara', 'ölüm', 'abd', 'ye', 'ölüm', 'ingiltere', 'ye', 'ölüm', 'sloganları', 'atıldı'], ['dini', 'lider', 'ali', 'hamaney', 've', 'cumhurbaşkanı', 'mahmud', 'ahmedinejad', 'ı', 'destekleyen', 'iranlılar', 'son', 'olaylarda', 'yeğeni', 'öldürülen', 'mir', 'hüseyin', 'musevi', 'başta', 'olmak', 'üzere', 'muhalefet', 'liderlerini', 'kınadılar'], ['musevi', 'ye', 'ölüm', 've', 'idam', 'idam', 'sloganları', 'duyuldu'], ['muhalefet', 'liderleri', 'kaçtı', 'mı', 'aşure', 'günü', 'yaşanan', 'çatışmalarda', 'devlet', 'kaynaklarına', 'göre', 'u', 'terörist', 'olmak', 'üzere', 'kişi', 'ölmüştü'], ['den', 'fazla', 'kişinin', 'yaralandığı', 'olaylar', 'sırasında', 'en', 'az', 'kişi', 'tutuklanmıştı'], ['öte', 'yandan', 'iran', 'haber', 'ajansı', 'irna', 'muhalif', 'liderler', 'mir', 'hüseyin', 'musevi', 've', 'mehdi', 'kerrubi', 'nin', 'başkentten', 'kaçarak', 'ülkenin', 'kuzeyine', 'geçtiğini', 'ileri', 'sürdü', 'ancak', 'muhalefet', 'iddiayı', 'yalanladı'], ['hamaney', 'in', 'bir', 'dönem', 'korumalığını', 'yapan', 've', 'şu', 'anda', 'fransa', 'da', 'saklandığı', 'söylenen', 'bir', 'kişinin', 'muhalefete', 'verdiği', 'bilgilere', 'göre', 'münzevi', 'yaşamı', 'na', 'rağmen', 'dini', 'liderin', 'havyara', 'karşı', 'korkunç', 'bir', 'iştahı', 'var'], ['baston', 've', 'at', 'meraklısı', 'hamaney', 'aynı', 'zamanda', 'değerli', 'mücevherlerle', 'bezenmiş', 'bastonların', 've', 'cins', 'atların', 'koleksiyonunu', 'yapıyor'], ['hamaney', 'in', 'antika', 'bastonlarının', 'sayısı']]\n"
     ]
    }
   ],
   "source": [
    "corpus = [word_tokenize(i) for i in df.news]\n",
    "print(corpus[:10])"
   ]
  },
  {
   "cell_type": "code",
   "execution_count": 8,
   "metadata": {
    "colab": {
     "base_uri": "https://localhost:8080/"
    },
    "id": "VfQPeDH5cmBa",
    "outputId": "8f9b71af-9732-4ffb-d61f-814f0646c174"
   },
   "outputs": [
    {
     "data": {
      "text/plain": [
       "4"
      ]
     },
     "execution_count": 8,
     "metadata": {},
     "output_type": "execute_result"
    }
   ],
   "source": [
    "from gensim.utils import effective_n_jobs\n",
    "\n",
    "effective_n_jobs(-1)\n",
    "\n",
    "# bilgisayardaki eğitim için kullanabileceğimiz çekirdek sayısını gösterir."
   ]
  },
  {
   "cell_type": "code",
   "execution_count": 9,
   "metadata": {
    "colab": {
     "base_uri": "https://localhost:8080/"
    },
    "id": "KDjYg_Akl4w5",
    "outputId": "21a4c8f7-5a92-4b91-a5ec-d0382b88244a"
   },
   "outputs": [
    {
     "name": "stdout",
     "output_type": "stream",
     "text": [
      "CPU times: total: 7min 51s\n",
      "Wall time: 4min 9s\n"
     ]
    }
   ],
   "source": [
    "%%time\n",
    "model = Word2Vec(sentences=corpus,\n",
    "                 vector_size=100,\n",
    "                 window=5,\n",
    "                 min_count=5,\n",
    "                 sg=1,\n",
    "                 alpha=0.025,\n",
    "                 workers=effective_n_jobs(-1)\n",
    "                 )\n",
    " # alpha bizim learning_rate değerimiz\n",
    "# sg = 1 --> Skipgram\n",
    "# min_count --> Corpusta 5 veya daha az tokenleri eğitime dahil etmez.\n",
    "# sg = 0 --> CBOW\n",
    "# vector_size --> word enbeddings boyutunu belirler."
   ]
  },
  {
   "cell_type": "code",
   "execution_count": 10,
   "metadata": {
    "colab": {
     "base_uri": "https://localhost:8080/"
    },
    "id": "D3SK8j_RcmBd",
    "outputId": "8e9a16a9-06e8-4348-bed6-d681f13a487d"
   },
   "outputs": [
    {
     "data": {
      "text/plain": [
       "array([-0.00312257, -0.10554322, -0.10290343,  0.39027435,  0.16651799,\n",
       "        0.20297365, -0.02502549,  0.86863524, -0.3224626 , -0.29512468,\n",
       "       -0.38318512, -0.3385231 , -0.01204133, -0.03324826, -0.05601581,\n",
       "        0.73700964,  0.19668674, -0.55885524, -0.07414236, -0.9865017 ,\n",
       "       -0.37598458,  0.4050142 ,  0.69189054, -0.4574394 ,  0.15765965,\n",
       "        0.12377916, -0.02080995,  0.29593778, -0.12304704,  0.41660988,\n",
       "        0.56676656,  0.20379123,  0.11238608,  0.04933878,  0.23529907,\n",
       "       -0.04571028, -0.2525897 ,  0.07903088,  0.24920751, -0.03456997,\n",
       "        0.37073913, -0.15991096,  0.13746926,  0.00429703,  0.16664585,\n",
       "        0.11673784, -0.10094589, -0.07661065, -0.11302624, -0.4810728 ,\n",
       "        0.30064726,  0.09648464,  0.15002707, -0.22999042, -0.07312373,\n",
       "        0.08021831, -0.2255014 , -0.7858135 , -0.8127238 , -0.55705875,\n",
       "       -0.05705869, -0.062142  , -0.19208993,  0.07740303, -0.47409627,\n",
       "       -0.09985266,  0.06574097,  0.36836147, -0.21408495,  0.13052551,\n",
       "       -0.53728265, -0.29111192,  0.5116022 ,  0.12689957,  0.5689179 ,\n",
       "        0.24152038,  0.23340003, -0.262849  , -0.31149265,  0.30619892,\n",
       "       -0.01500803, -0.4168808 , -0.23813413,  0.50273067,  0.37640738,\n",
       "        0.17968933,  0.0090249 ,  0.5418328 ,  0.8589177 , -0.05383933,\n",
       "        0.33042067,  0.0856358 ,  0.06589478,  0.29676217,  0.11826514,\n",
       "       -0.15387568,  0.32198265,  0.04522225,  0.09886866, -0.13311978],\n",
       "      dtype=float32)"
      ]
     },
     "execution_count": 10,
     "metadata": {},
     "output_type": "execute_result"
    }
   ],
   "source": [
    "model.wv['ankara']"
   ]
  },
  {
   "cell_type": "code",
   "execution_count": 11,
   "metadata": {
    "colab": {
     "base_uri": "https://localhost:8080/"
    },
    "id": "kHbDH33EcmBe",
    "outputId": "bde1370f-5f3a-40d4-ac7c-dfa7be92d461"
   },
   "outputs": [
    {
     "data": {
      "text/plain": [
       "[('okuldaki', 0.7942331433296204),\n",
       " ('öğrenci', 0.7519997358322144),\n",
       " ('öğrencisinin', 0.7515254020690918),\n",
       " ('erkekten', 0.7478305101394653),\n",
       " ('öğretmenin', 0.7423704862594604),\n",
       " ('öğretmeni', 0.737430214881897),\n",
       " ('öğrenciyle', 0.7172926068305969),\n",
       " ('öğretmenlik', 0.7167909741401672),\n",
       " ('öğrenciden', 0.7161868810653687),\n",
       " ('sınıfta', 0.7133561372756958)]"
      ]
     },
     "execution_count": 11,
     "metadata": {},
     "output_type": "execute_result"
    }
   ],
   "source": [
    "model.wv.most_similar('öğretmen')"
   ]
  },
  {
   "cell_type": "code",
   "execution_count": 12,
   "metadata": {
    "colab": {
     "base_uri": "https://localhost:8080/"
    },
    "id": "B9G3IOjScmBf",
    "outputId": "9f0e3f1e-135c-4050-8444-30366782958a"
   },
   "outputs": [
    {
     "data": {
      "text/plain": [
       "[('sarı', 0.6632737517356873),\n",
       " ('çizgileri', 0.64785236120224),\n",
       " ('turuncu', 0.6350849270820618),\n",
       " ('çizgi', 0.6269041299819946),\n",
       " ('gömlekli', 0.6251264810562134),\n",
       " ('gömlekliler', 0.6085516810417175),\n",
       " ('renkli', 0.6051482558250427),\n",
       " ('siyah', 0.6047506332397461),\n",
       " ('gömlek', 0.5945928692817688),\n",
       " ('halıya', 0.5918627977371216)]"
      ]
     },
     "execution_count": 12,
     "metadata": {},
     "output_type": "execute_result"
    }
   ],
   "source": [
    "model.wv.most_similar('kırmızı')"
   ]
  },
  {
   "cell_type": "code",
   "execution_count": 13,
   "metadata": {
    "colab": {
     "base_uri": "https://localhost:8080/"
    },
    "id": "c0s0r3rLcmBg",
    "outputId": "8dc0a324-3e59-4134-cc72-6b34f6f745a6"
   },
   "outputs": [
    {
     "data": {
      "text/plain": [
       "[('evine', 0.831011176109314),\n",
       " ('dükkana', 0.7638229727745056),\n",
       " ('apartmana', 0.7515902519226074),\n",
       " ('mağazaya', 0.7480599880218506),\n",
       " ('hapishaneye', 0.7104387283325195),\n",
       " ('ofise', 0.7009888887405396),\n",
       " ('evden', 0.7001155614852905),\n",
       " ('arabaya', 0.6962890028953552),\n",
       " ('otobüse', 0.6941375732421875),\n",
       " ('kılığına', 0.692523181438446)]"
      ]
     },
     "execution_count": 13,
     "metadata": {},
     "output_type": "execute_result"
    }
   ],
   "source": [
    "model.wv.most_similar('eve')"
   ]
  },
  {
   "cell_type": "code",
   "execution_count": 14,
   "metadata": {
    "colab": {
     "base_uri": "https://localhost:8080/"
    },
    "id": "gTgSJmmJcmBg",
    "outputId": "5034bff0-eb11-4bac-9a16-b02765194727"
   },
   "outputs": [
    {
     "data": {
      "text/plain": [
       "[('marmara', 0.8897600769996643),\n",
       " ('gemisine', 0.6854773759841919),\n",
       " ('baskınıyla', 0.6733495593070984),\n",
       " ('baskınına', 0.6290244460105896),\n",
       " ('filosundaki', 0.6154645681381226),\n",
       " ('filo', 0.6084489226341248),\n",
       " ('dökme', 0.5981243848800659),\n",
       " ('baskınının', 0.5936612486839294),\n",
       " ('saldırısındaki', 0.5935335159301758),\n",
       " ('israil', 0.5863329172134399)]"
      ]
     },
     "execution_count": 14,
     "metadata": {},
     "output_type": "execute_result"
    }
   ],
   "source": [
    "model.wv.most_similar('mavi')"
   ]
  },
  {
   "cell_type": "code",
   "execution_count": 15,
   "metadata": {
    "colab": {
     "base_uri": "https://localhost:8080/"
    },
    "id": "T08m0GpBcmBh",
    "outputId": "8c5d7800-6ed5-4f16-89c0-5cdb4c1a3fc8"
   },
   "outputs": [
    {
     "data": {
      "text/plain": [
       "[('psikoloji', 0.6679722666740417),\n",
       " ('weinberg', 0.6451310515403748),\n",
       " ('perspektifleri', 0.6397430300712585),\n",
       " ('dersine', 0.6389050483703613),\n",
       " ('akıcı', 0.6378068923950195)]"
      ]
     },
     "execution_count": 15,
     "metadata": {},
     "output_type": "execute_result"
    }
   ],
   "source": [
    "model.wv.most_similar(positive=['öğrenme', 'doktor'], negative=['tedavi'], topn=5)"
   ]
  },
  {
   "cell_type": "code",
   "execution_count": 16,
   "metadata": {
    "colab": {
     "base_uri": "https://localhost:8080/"
    },
    "id": "TwhOw9LPcmBh",
    "outputId": "09543008-c1f3-4f05-84b8-77841ac96998"
   },
   "outputs": [
    {
     "data": {
      "text/plain": [
       "[('hollanda', 0.6290270686149597),\n",
       " ('danimarka', 0.6137218475341797),\n",
       " ('avusturya', 0.6035234332084656),\n",
       " ('fransa', 0.6032999157905579),\n",
       " ('botsalı', 0.5869179368019104)]"
      ]
     },
     "execution_count": 16,
     "metadata": {},
     "output_type": "execute_result"
    }
   ],
   "source": [
    "model.wv.most_similar(positive=['ankara', 'belçika'], negative=['brüksel'], topn=5)"
   ]
  },
  {
   "cell_type": "code",
   "execution_count": 17,
   "metadata": {
    "id": "YxQhk2tPcmBh"
   },
   "outputs": [],
   "source": [
    "model.save(\"word2vec.model\")"
   ]
  },
  {
   "cell_type": "code",
   "execution_count": 18,
   "metadata": {
    "id": "UcwEkfS7cmBh"
   },
   "outputs": [],
   "source": [
    "model = Word2Vec.load(\"word2vec.model\")"
   ]
  },
  {
   "cell_type": "markdown",
   "metadata": {
    "id": "jMDXzJikcmBh"
   },
   "source": [
    "## Glove"
   ]
  },
  {
   "cell_type": "code",
   "execution_count": 19,
   "metadata": {
    "id": "We5bOQx8cmBh"
   },
   "outputs": [],
   "source": [
    "from gensim.models import KeyedVectors"
   ]
  },
  {
   "cell_type": "code",
   "execution_count": 20,
   "metadata": {
    "colab": {
     "base_uri": "https://localhost:8080/",
     "height": 321
    },
    "id": "92NaP_NncmBi",
    "outputId": "47a4398b-2dcd-42a6-8e36-eb1a143e0c86"
   },
   "outputs": [],
   "source": [
    "glove_model = 'glove.6B.100d.txt'\n",
    "model2 = KeyedVectors.load_word2vec_format(glove_model, no_header=True)"
   ]
  },
  {
   "cell_type": "code",
   "execution_count": 21,
   "metadata": {
    "id": "GLzpOimzcmBi",
    "outputId": "aa4455c5-2d54-459e-efd0-a899adfed9d8"
   },
   "outputs": [
    {
     "data": {
      "text/plain": [
       "array([ 0.44374 ,  0.67311 , -0.51096 ,  0.20882 , -0.10662 ,  0.55098 ,\n",
       "       -0.035593,  0.25126 , -0.32789 ,  1.0762  , -0.49637 , -0.4298  ,\n",
       "        0.36764 ,  0.57894 , -0.25027 , -0.41021 ,  0.086998, -0.16843 ,\n",
       "       -0.85764 ,  1.0404  , -1.0314  ,  0.095147,  0.30729 ,  0.12348 ,\n",
       "        0.22745 , -0.52157 , -0.72478 , -1.0843  ,  0.035966,  0.62985 ,\n",
       "       -1.0991  ,  0.67161 ,  0.33797 ,  0.14551 , -0.90049 , -0.064415,\n",
       "       -0.75247 ,  0.21741 ,  0.51594 , -0.46291 , -0.77598 ,  0.40705 ,\n",
       "        0.1889  , -0.43402 ,  0.23202 , -0.081453, -0.3882  , -0.34444 ,\n",
       "        0.080225, -0.28274 , -0.38869 , -0.58152 , -0.25558 ,  1.0027  ,\n",
       "       -0.11114 , -1.5402  , -0.16761 , -0.26558 ,  0.9325  ,  0.069397,\n",
       "        0.96618 ,  0.15449 , -0.22905 , -0.1761  ,  0.13225 , -0.55741 ,\n",
       "        0.9234  , -0.04845 ,  0.50202 ,  1.0144  , -0.1256  ,  0.30486 ,\n",
       "        0.090808,  0.17642 , -0.23146 ,  0.68386 ,  0.37269 , -0.37316 ,\n",
       "       -0.025728, -1.0279  , -0.33142 ,  0.036028, -0.24925 , -1.4405  ,\n",
       "       -1.6267  ,  0.082284, -0.080153, -0.50802 ,  0.031885, -0.60546 ,\n",
       "        0.2908  ,  0.036842,  0.55328 ,  0.66784 , -0.42574 ,  0.53331 ,\n",
       "        0.053644, -0.66522 , -0.10012 , -0.17729 ], dtype=float32)"
      ]
     },
     "execution_count": 21,
     "metadata": {},
     "output_type": "execute_result"
    }
   ],
   "source": [
    "model2['teacher']"
   ]
  },
  {
   "cell_type": "code",
   "execution_count": 22,
   "metadata": {
    "id": "E_B5lfVlcmBi",
    "outputId": "90026596-5644-4123-e747-0bbddc4af114"
   },
   "outputs": [
    {
     "data": {
      "text/plain": [
       "[('turkey', 0.7512096166610718),\n",
       " ('istanbul', 0.6787630319595337),\n",
       " ('turkish', 0.6690374612808228),\n",
       " ('damascus', 0.6372509002685547),\n",
       " ('tbilisi', 0.6322181820869446),\n",
       " ('erdogan', 0.6258037090301514),\n",
       " ('moscow', 0.6217040419578552),\n",
       " ('brussels', 0.6181437969207764),\n",
       " ('skopje', 0.6164302229881287),\n",
       " ('cyprus', 0.606403112411499)]"
      ]
     },
     "execution_count": 22,
     "metadata": {},
     "output_type": "execute_result"
    }
   ],
   "source": [
    "model2.most_similar('ankara')"
   ]
  },
  {
   "cell_type": "code",
   "execution_count": 23,
   "metadata": {
    "id": "JiMSgClQcmBi",
    "outputId": "8a20a503-70c1-4650-b37c-23795695ab6f"
   },
   "outputs": [
    {
     "data": {
      "text/plain": [
       "[('student', 0.8083398938179016),\n",
       " ('school', 0.7545564770698547),\n",
       " ('teaching', 0.7521439790725708),\n",
       " ('taught', 0.741184651851654),\n",
       " ('teachers', 0.7291542887687683),\n",
       " ('graduate', 0.7134961485862732),\n",
       " ('instructor', 0.7077120542526245),\n",
       " ('students', 0.6828974485397339),\n",
       " ('teaches', 0.6552315354347229),\n",
       " ('education', 0.6528989672660828)]"
      ]
     },
     "execution_count": 23,
     "metadata": {},
     "output_type": "execute_result"
    }
   ],
   "source": [
    "model2.most_similar('teacher')"
   ]
  },
  {
   "cell_type": "code",
   "execution_count": 24,
   "metadata": {
    "id": "OiPb5qA5cmBi",
    "outputId": "66fa6f8a-5d9c-4cbf-a501-bd415adc7663"
   },
   "outputs": [
    {
     "data": {
      "text/plain": [
       "[('physician', 0.7673240303993225),\n",
       " ('nurse', 0.75215083360672),\n",
       " ('dr.', 0.7175194025039673),\n",
       " ('doctors', 0.7080884575843811),\n",
       " ('patient', 0.7074184417724609),\n",
       " ('medical', 0.6995992660522461),\n",
       " ('surgeon', 0.6905338168144226),\n",
       " ('hospital', 0.6900930404663086),\n",
       " ('psychiatrist', 0.658909797668457),\n",
       " ('dentist', 0.6447421312332153)]"
      ]
     },
     "execution_count": 24,
     "metadata": {},
     "output_type": "execute_result"
    }
   ],
   "source": [
    "model2.most_similar('doctor')"
   ]
  },
  {
   "cell_type": "code",
   "execution_count": 25,
   "metadata": {
    "id": "eWrJ3BgmcmBi",
    "outputId": "6e73a66b-0a62-454a-fe08-66b4a3c9c7b5"
   },
   "outputs": [
    {
     "data": {
      "text/plain": [
       "[('daughter', 0.8917792439460754),\n",
       " ('wife', 0.8715243339538574),\n",
       " ('mother', 0.8525575995445251),\n",
       " ('cousin', 0.8307864665985107),\n",
       " ('father', 0.8303087949752808),\n",
       " ('husband', 0.8297377228736877),\n",
       " ('sister', 0.8250707983970642),\n",
       " ('son', 0.8211923837661743),\n",
       " ('niece', 0.8189268708229065),\n",
       " ('married', 0.7930801510810852)]"
      ]
     },
     "execution_count": 25,
     "metadata": {},
     "output_type": "execute_result"
    }
   ],
   "source": [
    "model2.most_similar(positive=['woman', 'brother'], negative=['man'], topn=10)"
   ]
  },
  {
   "cell_type": "code",
   "execution_count": 26,
   "metadata": {
    "id": "tmfyQhh1cmBj",
    "outputId": "ed5d5c58-4e07-4d27-bc39-bc740625a038"
   },
   "outputs": [
    {
     "data": {
      "text/plain": [
       "[('mother', 0.9024619460105896),\n",
       " ('daughter', 0.8675344586372375),\n",
       " ('wife', 0.8534843325614929),\n",
       " ('husband', 0.8278889656066895),\n",
       " ('grandmother', 0.8111951947212219),\n",
       " ('sister', 0.7873897552490234),\n",
       " ('married', 0.7863640785217285),\n",
       " ('niece', 0.7659663558006287),\n",
       " ('son', 0.7608128786087036),\n",
       " ('daughters', 0.7592161297798157)]"
      ]
     },
     "execution_count": 26,
     "metadata": {},
     "output_type": "execute_result"
    }
   ],
   "source": [
    "model2.most_similar(positive=['woman', 'father'], negative=['man'], topn=10)"
   ]
  },
  {
   "cell_type": "code",
   "execution_count": 27,
   "metadata": {
    "id": "A01K-8RBcmBj",
    "outputId": "d1c5bd5e-bcd8-4e4d-aa64-aa79c74346e9"
   },
   "outputs": [
    {
     "data": {
      "text/plain": [
       "[('aunt', 0.8368030190467834),\n",
       " ('daughter', 0.8227198123931885),\n",
       " ('niece', 0.8220989108085632),\n",
       " ('grandmother', 0.8220454454421997),\n",
       " ('mother', 0.8078984022140503),\n",
       " ('wife', 0.7898010611534119),\n",
       " ('cousin', 0.7828284502029419),\n",
       " ('granddaughter', 0.7685597538948059),\n",
       " ('father', 0.7636010050773621),\n",
       " ('husband', 0.7516083717346191)]"
      ]
     },
     "execution_count": 27,
     "metadata": {},
     "output_type": "execute_result"
    }
   ],
   "source": [
    "model2.most_similar(positive=['woman', 'uncle'], negative=['man'], topn=10)"
   ]
  },
  {
   "cell_type": "code",
   "execution_count": 28,
   "metadata": {
    "id": "zczjPQ8BcmBj",
    "outputId": "87c9943b-4955-4e00-db0f-8eccb573316c"
   },
   "outputs": [
    {
     "data": {
      "text/plain": [
       "[('turkey', 0.81471186876297),\n",
       " ('cyprus', 0.6863816380500793),\n",
       " ('greece', 0.6519805788993835),\n",
       " ('macedonia', 0.6496269702911377),\n",
       " ('syria', 0.6361783742904663),\n",
       " ('eritrea', 0.6300930380821228),\n",
       " ('bulgaria', 0.6245908737182617),\n",
       " ('ethiopia', 0.6059552431106567),\n",
       " ('eu', 0.5999408960342407),\n",
       " ('turkish', 0.5954114198684692)]"
      ]
     },
     "execution_count": 28,
     "metadata": {},
     "output_type": "execute_result"
    }
   ],
   "source": [
    "model2.most_similar(positive=['ankara', 'germany'], negative=['berlin'], topn=10)"
   ]
  },
  {
   "cell_type": "code",
   "execution_count": 29,
   "metadata": {
    "id": "gQBeTGSVcmBk",
    "outputId": "3a60e71a-e6e0-43b9-b868-15738f210ed4"
   },
   "outputs": [
    {
     "data": {
      "text/plain": [
       "[('teacher', 0.7610154151916504),\n",
       " ('taught', 0.7457807064056396),\n",
       " ('teaching', 0.7183247208595276),\n",
       " ('teaches', 0.6864126324653625),\n",
       " ('graduate', 0.6599061489105225),\n",
       " ('instructor', 0.6466694474220276),\n",
       " ('master', 0.6401479244232178),\n",
       " ('tutor', 0.6191785931587219),\n",
       " ('professor', 0.6178613901138306),\n",
       " ('student', 0.617290198802948)]"
      ]
     },
     "execution_count": 29,
     "metadata": {},
     "output_type": "execute_result"
    }
   ],
   "source": [
    "model2.most_similar(positive=['teach', 'doctor'], negative=['treat'], topn=10)"
   ]
  },
  {
   "cell_type": "code",
   "execution_count": 30,
   "metadata": {
    "id": "TMBLrIt-cmBk",
    "outputId": "e1bc8b9f-b0f5-4802-f91b-926141df4b95"
   },
   "outputs": [
    {
     "data": {
      "text/plain": [
       "[('queen', 0.7698540687561035),\n",
       " ('monarch', 0.6843381524085999),\n",
       " ('throne', 0.6755736470222473),\n",
       " ('daughter', 0.6594556570053101),\n",
       " ('princess', 0.6520534157752991),\n",
       " ('prince', 0.6517034769058228),\n",
       " ('elizabeth', 0.6464517712593079),\n",
       " ('mother', 0.631171703338623),\n",
       " ('emperor', 0.6106470823287964),\n",
       " ('wife', 0.6098655462265015)]"
      ]
     },
     "execution_count": 30,
     "metadata": {},
     "output_type": "execute_result"
    }
   ],
   "source": [
    "model2.most_similar(positive=['woman', 'king'], negative=['man'], topn=10)"
   ]
  },
  {
   "cell_type": "code",
   "execution_count": 31,
   "metadata": {
    "id": "l121JNZucmBk",
    "outputId": "5bcc37db-3395-4989-e992-a56eca230428"
   },
   "outputs": [
    {
     "data": {
      "text/plain": [
       "[('lover', 0.7032662630081177),\n",
       " ('fiancée', 0.6544632315635681),\n",
       " ('ex-girlfriend', 0.633444607257843),\n",
       " ('girlfriend', 0.6175631284713745),\n",
       " ('fiancee', 0.6118643283843994),\n",
       " ('daughter', 0.6114131808280945),\n",
       " ('boyfriend', 0.6083790063858032),\n",
       " ('sister', 0.602289080619812),\n",
       " ('mother', 0.599679708480835),\n",
       " ('sister-in-law', 0.5981643795967102)]"
      ]
     },
     "execution_count": 31,
     "metadata": {},
     "output_type": "execute_result"
    }
   ],
   "source": [
    "model2.most_similar(positive=['love', 'jealous'], negative=['hate'], topn=10)"
   ]
  },
  {
   "cell_type": "code",
   "execution_count": null,
   "metadata": {
    "id": "ubbIozB9cmBk"
   },
   "outputs": [],
   "source": []
  },
  {
   "cell_type": "code",
   "execution_count": null,
   "metadata": {},
   "outputs": [],
   "source": []
  }
 ],
 "metadata": {
  "colab": {
   "provenance": []
  },
  "kernelspec": {
   "display_name": "Python 3 (ipykernel)",
   "language": "python",
   "name": "python3"
  },
  "language_info": {
   "codemirror_mode": {
    "name": "ipython",
    "version": 3
   },
   "file_extension": ".py",
   "mimetype": "text/x-python",
   "name": "python",
   "nbconvert_exporter": "python",
   "pygments_lexer": "ipython3",
   "version": "3.11.7"
  },
  "widgets": {
   "application/vnd.jupyter.widget-state+json": {
    "state": {},
    "version_major": 2,
    "version_minor": 0
   }
  }
 },
 "nbformat": 4,
 "nbformat_minor": 4
}
